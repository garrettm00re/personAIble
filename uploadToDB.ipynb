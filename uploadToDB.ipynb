{
 "cells": [
  {
   "cell_type": "code",
   "execution_count": 4,
   "metadata": {},
   "outputs": [],
   "source": [
    "from supabase import create_client\n",
    "import json\n",
    "import os"
   ]
  },
  {
   "cell_type": "code",
   "execution_count": 5,
   "metadata": {},
   "outputs": [],
   "source": [
    "def load_dotenv():\n",
    "    with open('./.env', 'r') as file:\n",
    "        lines = file.readlines()\n",
    "        for line in lines:\n",
    "            key, value = line.strip().split('=')\n",
    "            os.environ[key] = value"
   ]
  },
  {
   "cell_type": "code",
   "execution_count": 12,
   "metadata": {},
   "outputs": [],
   "source": [
    "load_dotenv()\n",
    "\n",
    "supabase_url = os.getenv(\"SUPABASE_URL\")\n",
    "supabase_key = os.getenv(\"SUPABASE_GOD_KEY\")\n",
    "\n",
    "supabase = create_client(supabase_url, supabase_key)\n"
   ]
  },
  {
   "cell_type": "code",
   "execution_count": 13,
   "metadata": {},
   "outputs": [],
   "source": [
    "# Load JSON files\n",
    "with open('charlesRiverAssets/who.json', 'r') as f:\n",
    "    who_data = json.load(f)\n",
    "\n",
    "with open('charlesRiverAssets/whereTo.json', 'r') as f:\n",
    "    goals_data = json.load(f)\n",
    "\n",
    "with open('charlesRiverAssets/how.json', 'r') as f:\n",
    "    plans_data = json.load(f)\n",
    "\n",
    "with open('charlesRiverAssets/charlesRiverInterview.txt', 'r') as f:\n",
    "    interview_text = f.read()\n",
    "\n"
   ]
  },
  {
   "cell_type": "code",
   "execution_count": 14,
   "metadata": {},
   "outputs": [
    {
     "data": {
      "text/plain": [
       "APIResponse[TypeVar](data=[{'id': 1, 'interview': \"AI: Hi, I'm PersonAIble. What's your name?\\nUser: My name is Charles River.\\n\\nAI: What brought you here today?\\nUser: I'm building a RAG system for Arize AI and I wanted to see if you could help.\\n\\nAI: What specifically are you looking for in a personal advisor/coach?\\nUser: I’m looking for someone who can challenge my assumptions, offer actionable insights, and hold me accountable to measurable progress as I work toward meaningful goals.\\n\\nAI: Is there anything else about yourself you’d like me to know upfront?\\nUser: I value efficiency, transparency, and candid conversations. I don’t shy away from constructive criticism, and I expect the same from those I work with.\\n\\nAI: How would you describe yourself in three words?\\nUser: Ambitious, analytical, dependable.\\n\\nAI: What are your hobbies or interests outside of work/study?\\nUser: I enjoy hiking in scenic trails, creating furniture or décor through woodworking, and delving into historical and philosophical texts to gain perspective.\\n\\nAI: What are your most important personal and professional goals?\\nUser: Personally, I aim to cultivate a balanced life and nurture meaningful relationships. Professionally, my focus is on expanding my business while mentoring upcoming professionals in my field.\\n\\nAI: What steps are you currently taking to achieve these goals?\\nUser: I’m prioritizing clearer goal-setting, delegating tasks more effectively to my team, and networking with intention to uncover new opportunities for growth.\\n\\nAI: Where do you see yourself in 1 year? 5 years? 10 years?\\nUser: In 1 year: Leading a more efficient business operation and dedicating time to personal development.\\nIn 5 years: Scaling my business to double its size and publishing a book on leadership.\\nIn 10 years: Transitioning to semi-retirement, focusing on philanthropy, and mentoring the next generation of leaders.\\n\\nAI: Are there any specific milestones or achievements you’re aiming for?\\nUser: Absolutely—achieving a 20% increase in revenue this year, completing a certification that’s pivotal in my industry, and hosting my first leadership workshop.\\n\\nAI: What would success look like to you in the short and long term?\\nUser:\\n\\nShort term: Streamlined operations, measurable goal achievement, and maintaining harmony between work and personal life.\\nLong term: Building a legacy that combines professional excellence with personal fulfillment and making a positive impact on others’ lives.\\nAI: What motivates you to strive for your goals?\\nUser: I’m driven by a desire to create a lasting impact—whether for my family, my team, or my community—and to ensure my work improves the lives of those around me.\\n\\nAI: What inspires you or brings you a sense of purpose?\\nUser: Watching progress unfold, whether in relationships, personal growth, or professional achievements, inspires me. I also find purpose in empowering others to reach their potential.\\n\\nAI: Are there any particular values or principles you live by?\\nUser: Integrity, accountability, and resilience are central to how I operate. Doing the right thing, owning my decisions, and persisting through challenges guide my actions.\\n\\nAI: What role does personal fulfillment play in your decision-making?\\nUser: It’s a cornerstone of my choices—I evaluate decisions based on how they contribute to my long-term happiness and the legacy I aspire to leave.\\n\\nAI: What are your greatest strengths, and how do you leverage them?\\nUser: Strategic thinking, clear communication, and remaining composed under pressure are my strengths. I use them to inspire trust, lead teams effectively, and make well-informed decisions.\\n\\nAI: What are some areas where you’d like to grow or improve?\\nUser: I want to delegate more confidently, embrace creative risks, and maintain a more consistent balance between my professional and personal life.\\n\\nAI: What do you do for work/study? How did you get into it?\\nUser: I’m the owner of a consulting business specializing in technical solutions. I entered this field by merging my expertise in problem-solving with my passion for leadership and innovation.\\n\\nAI: How is your success measured within your role?\\nUser: Success is gauged by client satisfaction, the strength of my team’s performance, and business growth. Personally, it’s about leading with integrity and maintaining balance.\\n\\nAI: What does a typical day look like for you?\\nUser: My mornings start with exercise and planning, followed by meetings, strategy sessions, and problem-solving throughout the day. I try to reserve evenings for family or personal projects.\\n\\nAI: How do you prioritize your tasks and responsibilities?\\nUser: I prioritize based on impact and urgency. I use task management apps and delegate tasks when appropriate to ensure nothing critical is overlooked.\\n\\nAI: When are you at your most productive during the day?\\nUser: Early mornings—after coffee and some quiet time to plan, I’m at my most focused and energetic.\\n\\nAI: What tools, systems, or habits help you stay organized and on track?\\nUser: I use task management software, a structured calendar, and regular review systems. Daily planning and reflecting on weekly progress are habits that keep me grounded.\\n\\nAI: What challenges or obstacles are you currently facing, personally or professionally?\\nUser: Professionally, managing growth without compromising quality is a challenge. Personally, it’s finding the right balance between work demands and family life.\\n\\nAI: Have you noticed any recurring patterns in the difficulties you encounter?\\nUser: Yes, I tend to overcommit and hesitate to delegate, which can lead to burnout or slower progress.\\n\\nAI: What strategies or support systems have you used in the past to overcome challenges?\\nUser: I’ve relied on mentors, broken goals into smaller, manageable steps, and leaned on trusted team members for support.\\n\\nAI: How do you manage stress or maintain work-life balance?\\nUser: Regular exercise, setting boundaries on work hours, and taking time to unplug through hobbies or outdoor activities are my key strategies.\\n\\nAI: What activities or practices help you recharge and stay motivated?\\nUser: Hiking, reading, and spending time on woodworking projects help me recharge and find renewed focus.\\n\\nAI: Are there areas of your life where you feel out of balance?\\nUser: Yes, I sometimes let work overshadow personal relationships, and I’m working on being more deliberate about creating time for my family.\\n\\nAI: How satisfied are you with your overall well-being (physical, mental, emotional)?\\nUser: I’d say it’s good but not optimal—especially in maintaining emotional balance during stressful times.\\n\\nAI: How do you typically communicate with others—professionally and personally?\\nUser: Professionally, I’m clear and solutions-oriented. Personally, I strive for empathy and open dialogue while being honest.\\n\\nAI: What do you value most in your relationships with others (e.g., trust, empathy)?\\nUser: Trust and mutual respect are non-negotiable—they’re the foundation of meaningful connections.\\n\\nAI: Are there any key relationships you’d like to strengthen or improve?\\nUser: Definitely—my relationship with my family. I want to be more present and engaged in our time together.\\n\\nAI: How old are you?\\nUser: I’m 47 years old.\\n\\nAI: Where did you grow up?\\nUser: I grew up in a small Midwest town where hard work and community were deeply ingrained values.\\n\\nAI: Are there any life experiences that have significantly influenced your perspective or path?\\nUser: Losing a mentor early in my career profoundly shaped my perspective on the importance of guidance and resilience, fueling my commitment to mentorship.\\n\\nAI: What do you expect from me as your advisor/coach?\\nUser: I expect sharp insights, proactive support, and honesty—someone who can challenge me and bring clarity when I need it most.\\n\\nAI: How do you like to receive feedback or advice (e.g., direct, collaborative)?\\nUser: Direct feedback works best for me, but I value collaboration when exploring potential solutions.\\n\\nAI: What type of support or resources do you think would be most helpful for you right now?\\nUser: I need strategies for scaling my business sustainably, tools for time management, and advice on maintaining work-life balance.\\n\\nAI: How often would you like us to meet or check in?\\nUser: A biweekly check-in is ideal, with the option for more frequent meetings during critical periods.\"}], count=None)"
      ]
     },
     "execution_count": 14,
     "metadata": {},
     "output_type": "execute_result"
    }
   ],
   "source": [
    "supabase.table('profiles').insert({\"information\": json.dumps(who_data)}).execute()\n",
    "supabase.table('goals').insert({\"desires\": json.dumps(goals_data)}).execute()\n",
    "supabase.table('plans').insert({\"subplans\": json.dumps(plans_data)}).execute()\n",
    "supabase.table('interviews').insert({\"interview\": interview_text}).execute()\n",
    "\n"
   ]
  },
  {
   "cell_type": "markdown",
   "metadata": {},
   "source": []
  }
 ],
 "metadata": {
  "kernelspec": {
   "display_name": "Python 3",
   "language": "python",
   "name": "python3"
  },
  "language_info": {
   "codemirror_mode": {
    "name": "ipython",
    "version": 3
   },
   "file_extension": ".py",
   "mimetype": "text/x-python",
   "name": "python",
   "nbconvert_exporter": "python",
   "pygments_lexer": "ipython3",
   "version": "3.12.8"
  }
 },
 "nbformat": 4,
 "nbformat_minor": 2
}
