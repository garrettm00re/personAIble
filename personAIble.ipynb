{
 "cells": [
  {
   "cell_type": "code",
   "execution_count": 93,
   "metadata": {},
   "outputs": [],
   "source": [
    "from langchain import hub\n",
    "from langchain_community.document_loaders import WebBaseLoader\n",
    "from langchain_core.documents import Document\n",
    "from langchain_text_splitters import RecursiveCharacterTextSplitter\n",
    "from langgraph.graph import START, StateGraph\n",
    "from typing_extensions import List, TypedDict\n",
    "\n",
    "\n",
    "from langchain_openai import ChatOpenAI\n",
    "from langchain_openai import OpenAIEmbeddings\n",
    "from langchain_core.vectorstores import InMemoryVectorStore\n",
    "\n",
    "\n",
    "from dotenv import load_dotenv\n",
    "import os\n",
    "from langchain.document_loaders import JSONLoader\n",
    "import numpy as np\n",
    "import matplotlib.pyplot as plt\n"
   ]
  },
  {
   "cell_type": "code",
   "execution_count": 94,
   "metadata": {},
   "outputs": [
    {
     "data": {
      "text/plain": [
       "True"
      ]
     },
     "execution_count": 94,
     "metadata": {},
     "output_type": "execute_result"
    }
   ],
   "source": [
    "load_dotenv(override=True)  # This will load environment variables from .env file"
   ]
  },
  {
   "cell_type": "code",
   "execution_count": 95,
   "metadata": {},
   "outputs": [],
   "source": [
    "embeddings = OpenAIEmbeddings(model=\"text-embedding-3-large\") ## why?\n",
    "vector_store = InMemoryVectorStore(embeddings) # why?\n",
    "llm = ChatOpenAI(model=\"gpt-4o-mini\") # why?"
   ]
  },
  {
   "cell_type": "code",
   "execution_count": 96,
   "metadata": {},
   "outputs": [],
   "source": [
    "# Create loaders for each JSON file\n",
    "loader1 = JSONLoader(\n",
    "    file_path=\"userModel/how.json\",\n",
    "    jq_schema='.', #Get everything (entire JSON)\n",
    "    text_content=False\n",
    ")\n",
    "\n",
    "loader2 = JSONLoader(\n",
    "    file_path=\"userModel/whereTo.json\",\n",
    "    jq_schema='.', #Get everything (entire JSON)\n",
    "    text_content=False\n",
    ")\n",
    "\n",
    "loader3 = JSONLoader(\n",
    "    file_path=\"userModel/who.json\",\n",
    "    jq_schema='.', #Get everything (entire JSON)\n",
    "    text_content=False\n",
    ")\n",
    "\n",
    "# Combine documents from all loaders\n",
    "documents = []\n",
    "for loader in [loader1, loader2, loader3]:\n",
    "    documents.extend(loader.load())\n"
   ]
  },
  {
   "cell_type": "code",
   "execution_count": 97,
   "metadata": {},
   "outputs": [],
   "source": [
    "text_splitter = RecursiveCharacterTextSplitter(\n",
    "    chunk_size=200, \n",
    "    chunk_overlap=40,\n",
    "    separators=[\"{\", \"}\", \",\", \"\\n\"]\n",
    "    )\n",
    "all_splits = text_splitter.split_documents(documents)"
   ]
  },
  {
   "cell_type": "code",
   "execution_count": 98,
   "metadata": {},
   "outputs": [
    {
     "name": "stdout",
     "output_type": "stream",
     "text": [
      "32\n",
      "page_content='{\"subPlan\": [{\"goal\":' metadata={'source': 'C:\\\\Users\\\\garre\\\\OneDrive\\\\Desktop\\\\Projects\\\\personAIble\\\\userModel\\\\how.json', 'seq_num': 1}\n",
      "page_content='{\"description\": \"Secure a job in Software Engineering or Machine Learning\", \"deadline\": \"2025-03-31\"' metadata={'source': 'C:\\\\Users\\\\garre\\\\OneDrive\\\\Desktop\\\\Projects\\\\personAIble\\\\userModel\\\\how.json', 'seq_num': 1}\n",
      "page_content='}, \"justification\": \"Jimmy has a strong passion for continuous improvement, making a positive difference, and leveraging his skills in programming and problem-solving.\", \"actionItem\": [' metadata={'source': 'C:\\\\Users\\\\garre\\\\OneDrive\\\\Desktop\\\\Projects\\\\personAIble\\\\userModel\\\\how.json', 'seq_num': 1}\n",
      "page_content='{\"what\": \"Complete and refine resume and LinkedIn profile\", \"when\": \"2025-01-07\", \"duration\": \"2 hours\"},' metadata={'source': 'C:\\\\Users\\\\garre\\\\OneDrive\\\\Desktop\\\\Projects\\\\personAIble\\\\userModel\\\\how.json', 'seq_num': 1}\n",
      "page_content='{\"what\": \"Apply to at least 5 jobs weekly\", \"when\": \"Mondays and Thursdays\", \"duration\": \"3 hours each day\"},' metadata={'source': 'C:\\\\Users\\\\garre\\\\OneDrive\\\\Desktop\\\\Projects\\\\personAIble\\\\userModel\\\\how.json', 'seq_num': 1}\n",
      "page_content='{\"what\": \"Practice technical interviews using Leetcode and mock interviews\", \"when\": \"Tuesdays, Thursdays, and Saturdays\", \"duration\": \"2 hours each session\"},' metadata={'source': 'C:\\\\Users\\\\garre\\\\OneDrive\\\\Desktop\\\\Projects\\\\personAIble\\\\userModel\\\\how.json', 'seq_num': 1}\n",
      "page_content='{\"what\": \"Attend 2 networking events monthly\", \"when\": \"Second and fourth Wednesdays of the month\", \"duration\": \"3 hours per event\"}]}, {\"goal\":' metadata={'source': 'C:\\\\Users\\\\garre\\\\OneDrive\\\\Desktop\\\\Projects\\\\personAIble\\\\userModel\\\\how.json', 'seq_num': 1}\n",
      "page_content='{\"description\": \"Move out of parents' house\", \"deadline\": \"2025-07-01\"' metadata={'source': 'C:\\\\Users\\\\garre\\\\OneDrive\\\\Desktop\\\\Projects\\\\personAIble\\\\userModel\\\\how.json', 'seq_num': 1}\n",
      "page_content='}, \"justification\": \"Jimmy values independence and wants to establish a stable personal environment for growth and social development.\", \"actionItem\": [' metadata={'source': 'C:\\\\Users\\\\garre\\\\OneDrive\\\\Desktop\\\\Projects\\\\personAIble\\\\userModel\\\\how.json', 'seq_num': 1}\n",
      "page_content='{\"what\": \"Research affordable housing options\", \"when\": \"Weekends in February\", \"duration\": \"3 hours per weekend\"},' metadata={'source': 'C:\\\\Users\\\\garre\\\\OneDrive\\\\Desktop\\\\Projects\\\\personAIble\\\\userModel\\\\how.json', 'seq_num': 1}\n",
      "page_content='{\"what\": \"Save $1000 per month for moving costs and rent\", \"when\": \"Monthly until move-out date\", \"duration\": \"Ongoing\"},' metadata={'source': 'C:\\\\Users\\\\garre\\\\OneDrive\\\\Desktop\\\\Projects\\\\personAIble\\\\userModel\\\\how.json', 'seq_num': 1}\n",
      "page_content='{\"what\": \"Visit potential apartments\", \"when\": \"March weekends\", \"duration\": \"3 hours per weekend\"}]}, {\"goal\":' metadata={'source': 'C:\\\\Users\\\\garre\\\\OneDrive\\\\Desktop\\\\Projects\\\\personAIble\\\\userModel\\\\how.json', 'seq_num': 1}\n",
      "page_content='{\"description\": \"Build healthy habits for personal growth and stability\", \"deadline\": \"2025-06-01\"' metadata={'source': 'C:\\\\Users\\\\garre\\\\OneDrive\\\\Desktop\\\\Projects\\\\personAIble\\\\userModel\\\\how.json', 'seq_num': 1}\n",
      "page_content='}, \"justification\": \"Good health and stable habits will enable Jimmy to sustain his ambition and efforts toward other goals.\", \"actionItem\": [' metadata={'source': 'C:\\\\Users\\\\garre\\\\OneDrive\\\\Desktop\\\\Projects\\\\personAIble\\\\userModel\\\\how.json', 'seq_num': 1}\n",
      "page_content='{\"what\": \"Develop a morning routine with exercise and mindfulness\", \"when\": \"Daily, 7:00 AM\", \"duration\": \"1 hour\"},' metadata={'source': 'C:\\\\Users\\\\garre\\\\OneDrive\\\\Desktop\\\\Projects\\\\personAIble\\\\userModel\\\\how.json', 'seq_num': 1}\n",
      "page_content='{\"what\": \"Plan and prepare healthy meals\", \"when\": \"Sundays\", \"duration\": \"2 hours\"},' metadata={'source': 'C:\\\\Users\\\\garre\\\\OneDrive\\\\Desktop\\\\Projects\\\\personAIble\\\\userModel\\\\how.json', 'seq_num': 1}\n",
      "page_content='{\"what\": \"Maintain a sleep schedule of 8 hours nightly\", \"when\": \"Daily, 10:00 PM to 6:00 AM\", \"duration\": \"8 hours\"}]}, {\"goal\":' metadata={'source': 'C:\\\\Users\\\\garre\\\\OneDrive\\\\Desktop\\\\Projects\\\\personAIble\\\\userModel\\\\how.json', 'seq_num': 1}\n",
      "page_content='{\"description\": \"Make new friends and expand social circle\", \"deadline\": \"2026-01-01\"' metadata={'source': 'C:\\\\Users\\\\garre\\\\OneDrive\\\\Desktop\\\\Projects\\\\personAIble\\\\userModel\\\\how.json', 'seq_num': 1}\n",
      "page_content='}, \"justification\": \"Jimmy values connections with others and wants to build meaningful relationships.\", \"actionItem\": [' metadata={'source': 'C:\\\\Users\\\\garre\\\\OneDrive\\\\Desktop\\\\Projects\\\\personAIble\\\\userModel\\\\how.json', 'seq_num': 1}\n",
      "page_content='{\"what\": \"Join local interest groups or clubs\", \"when\": \"January to March, Saturdays\", \"duration\": \"2 hours per session\"},' metadata={'source': 'C:\\\\Users\\\\garre\\\\OneDrive\\\\Desktop\\\\Projects\\\\personAIble\\\\userModel\\\\how.json', 'seq_num': 1}\n",
      "page_content='{\"what\": \"Attend social mixers or community events monthly\", \"when\": \"Last Friday of each month\", \"duration\": \"3 hours\"},' metadata={'source': 'C:\\\\Users\\\\garre\\\\OneDrive\\\\Desktop\\\\Projects\\\\personAIble\\\\userModel\\\\how.json', 'seq_num': 1}\n",
      "page_content='{\"what\": \"Host a casual gathering for new acquaintances\", \"when\": \"April and October\", \"duration\": \"4 hours\"}]}]}' metadata={'source': 'C:\\\\Users\\\\garre\\\\OneDrive\\\\Desktop\\\\Projects\\\\personAIble\\\\userModel\\\\how.json', 'seq_num': 1}\n",
      "page_content='{\"desires\": [{\"description\": \"Move out of parents' house\", \"strength\": 9, \"timeliness\": \"6 months\"},' metadata={'source': 'C:\\\\Users\\\\garre\\\\OneDrive\\\\Desktop\\\\Projects\\\\personAIble\\\\userModel\\\\whereTo.json', 'seq_num': 1}\n",
      "page_content='{\"description\": \"Secure a job in Software Engineering or Machine Learning\", \"strength\": 10, \"timeliness\": \"3 months\"},' metadata={'source': 'C:\\\\Users\\\\garre\\\\OneDrive\\\\Desktop\\\\Projects\\\\personAIble\\\\userModel\\\\whereTo.json', 'seq_num': 1}\n",
      "page_content='{\"description\": \"Make new friends and expand social circle\", \"strength\": 7, \"timeliness\": \"1 year\"}, {\"description\": \"Meet a romantic partner\", \"strength\": 8, \"timeliness\": \"1 year\"},' metadata={'source': 'C:\\\\Users\\\\garre\\\\OneDrive\\\\Desktop\\\\Projects\\\\personAIble\\\\userModel\\\\whereTo.json', 'seq_num': 1}\n",
      "page_content='{\"description\": \"Work toward changing the world through innovative projects\", \"strength\": 10, \"timeliness\": \"5 years\"},' metadata={'source': 'C:\\\\Users\\\\garre\\\\OneDrive\\\\Desktop\\\\Projects\\\\personAIble\\\\userModel\\\\whereTo.json', 'seq_num': 1}\n",
      "page_content='{\"description\": \"Build healthy habits for personal growth and stability\", \"strength\": 8, \"timeliness\": \"6 months\"},' metadata={'source': 'C:\\\\Users\\\\garre\\\\OneDrive\\\\Desktop\\\\Projects\\\\personAIble\\\\userModel\\\\whereTo.json', 'seq_num': 1}\n",
      "page_content='{\"description\": \"Improve steadily and give the world the best effort\", \"strength\": 9, \"timeliness\": \"Ongoing\"}]}' metadata={'source': 'C:\\\\Users\\\\garre\\\\OneDrive\\\\Desktop\\\\Projects\\\\personAIble\\\\userModel\\\\whereTo.json', 'seq_num': 1}\n",
      "page_content='{\"Name\": \"Jimmy\", \"DOB\": \"2000-01-01\", \"Gender\": \"Male\", \"Core Values\": [\"Love for life and people\", \"Doing right by others\", \"Continuous improvement\", \"Making a positive difference in the world\"]' metadata={'source': 'C:\\\\Users\\\\garre\\\\OneDrive\\\\Desktop\\\\Projects\\\\personAIble\\\\userModel\\\\who.json', 'seq_num': 1}\n",
      "page_content=', \"Personality Traits\": [\"Ambitious\", \"Hardworking\", \"Optimistic\", \"Goal-oriented\", \"Socially conscious\"], \"Hobbies/Interests\": [\"Reading news\", \"Playing games occasionally\"' metadata={'source': 'C:\\\\Users\\\\garre\\\\OneDrive\\\\Desktop\\\\Projects\\\\personAIble\\\\userModel\\\\who.json', 'seq_num': 1}\n",
      "page_content=', \"Playing games occasionally\", \"Building projects in Python\", \"Pursuing fun in moderation\", \"Networking\", \"Learning and problem-solving through leetcode\"]' metadata={'source': 'C:\\\\Users\\\\garre\\\\OneDrive\\\\Desktop\\\\Projects\\\\personAIble\\\\userModel\\\\who.json', 'seq_num': 1}\n",
      "page_content='}' metadata={'source': 'C:\\\\Users\\\\garre\\\\OneDrive\\\\Desktop\\\\Projects\\\\personAIble\\\\userModel\\\\who.json', 'seq_num': 1}\n"
     ]
    }
   ],
   "source": [
    "print(len(all_splits))\n",
    "for doc in all_splits:\n",
    "    print(doc)"
   ]
  },
  {
   "cell_type": "code",
   "execution_count": 99,
   "metadata": {},
   "outputs": [],
   "source": [
    "# Index chunks\n",
    "_ = vector_store.add_documents(documents=all_splits)"
   ]
  },
  {
   "cell_type": "code",
   "execution_count": 108,
   "metadata": {},
   "outputs": [],
   "source": [
    "whoSchema = \"\"\"{\n",
    "    Name: string,\n",
    "    DOB: string,  // ISO date format\n",
    "    Gender: string,\n",
    "    \"Core Values\": string[],\n",
    "    \"Personality Traits\": string[],\n",
    "    \"Hobbies/Interests\": string[]\n",
    "    }\"\"\"\n",
    "whereToSchema = \"\"\"{\n",
    "desires: Array<{\n",
    "    description: string,\n",
    "    strength: number,  // Scale 1-10\n",
    "    timeliness: string // Time period or \"Ongoing\"\n",
    "}>\n",
    "}\"\"\"\n",
    "howSchema = \"\"\"{\n",
    "subPlan: Array<{\n",
    "    goal: {\n",
    "        description: string,\n",
    "        deadline: string  // ISO date format\n",
    "    },\n",
    "    justification: string,\n",
    "    actionItems: Array<{\n",
    "        what: string,\n",
    "        when: string,    // Schedule description\n",
    "        duration: string  // Time period\n",
    "    }>\n",
    "}>\n",
    "}\"\"\"\n",
    "whoDescription = \"personal information about the user.\"\n",
    "whereToDescription = \"information about the user's most important desires.\"\n",
    "howDescription = \"information about the user's plan to obtain each of their desires from a high level.\"\n",
    "dataSourcesAndDescriptions = [(whoSchema, whoDescription), (whereToSchema, whereToDescription), (howSchema, howDescription)]"
   ]
  },
  {
   "cell_type": "code",
   "execution_count": 122,
   "metadata": {},
   "outputs": [
    {
     "name": "stderr",
     "output_type": "stream",
     "text": [
      "C:\\Users\\garre\\AppData\\Local\\Packages\\PythonSoftwareFoundation.Python.3.12_qbz5n2kfra8p0\\LocalCache\\local-packages\\Python312\\site-packages\\langsmith\\client.py:256: LangSmithMissingAPIKeyWarning: API key must be provided when using hosted LangSmith API\n",
      "  warnings.warn(\n"
     ]
    }
   ],
   "source": [
    "# Define prompt for question-answering\n",
    "prompt = hub.pull(\"rlm/rag-prompt\")\n",
    "\n",
    "\n",
    "# Define state for application\n",
    "class State(TypedDict):\n",
    "    question: str\n",
    "    context: List[Document]\n",
    "    answer: str\n",
    "\n",
    "def getScore(cosineSimilarity):\n",
    "    return cosineSimilarity #abs(cosineSimilarity)\n",
    "# Define application steps\n",
    "\n",
    "def retrieve2(state: State, minRelevance = 0.2, stdDev = 0.5, showDistribution = True):\n",
    "    researchPromptFXN = lambda question, schema, description: f\"\"\"You are preparing to answer the following \n",
    "    question: {question}. You are given access to a json database that contains {description} with \n",
    "    the following schema: {schema}. Generate a list of newline-separated, natural language queries \n",
    "    that will help you answer the question.\"\"\"\n",
    "    \n",
    "    question = state[\"question\"]\n",
    "    relevantDocs = {}\n",
    "    for schema, description in dataSourcesAndDescriptions:\n",
    "        newDocs = research(schema, description, question, researchPromptFXN)\n",
    "        for doc in newDocs:\n",
    "            relevantDocs[doc.id] = doc\n",
    "    return {\"context\": list(relevantDocs.values())}\n",
    "    \n",
    "\n",
    "def research(schema, description, question: str, promptFXN, numStdDev = 1, threshold = 0.2):\n",
    "    def getMostRelevant(raw_results):\n",
    "        scores = np.array([getScore(cosine_similarity) for _, cosine_similarity in raw_results])\n",
    "        mean = np.mean(scores)\n",
    "        std = np.std(scores)\n",
    "        return [raw_results[i][0] for i in np.where(scores >= mean + (std*numStdDev))[0] if raw_results[i][1] >= threshold]\n",
    "    \n",
    "    prompt = promptFXN(question, schema, description)\n",
    "    response = llm.invoke(prompt)\n",
    "    print(prompt, response)\n",
    "    desiredInformation = response.content.split(\"\\n\") # split into specific \"queries\"\n",
    "    docs = {}\n",
    "    for query in desiredInformation:\n",
    "        relevant = getMostRelevant(vector_store.similarity_search_with_score(query))\n",
    "        for doc in relevant:\n",
    "            docs[doc.id] = doc\n",
    "    return list(docs.values())\n",
    "\n",
    "def retrieve(state: State, minRelevance = 0.2, stdDev = 1, showDistribution = True, document = None):\n",
    "    raw_results = vector_store.similarity_search_with_score(state[\"question\"], k = len(all_splits)) # score is cosine similarity\n",
    "    print(\"len raw_results\", len(raw_results))\n",
    "    if len(raw_results) == 1:\n",
    "        return {\"context\": [raw_results[0][0]]}\n",
    "    else:\n",
    "        # I think absolute value of score measures true similarity, will test this hypothesis somehow\n",
    "        scores = np.array([getScore(cosine_similarity) for _, cosine_similarity in raw_results])\n",
    "        indicesAboveMinRelevance = np.where(scores > minRelevance)[0]\n",
    "        #meanScore = np.mean(scores)\n",
    "        #stdScore = np.std(scores)\n",
    "        if showDistribution:\n",
    "            plt.hist(scores)\n",
    "            plt.show()\n",
    "\n",
    "        if len(indicesAboveMinRelevance):\n",
    "            return {\"context\": [raw_results[i][0] for i in indicesAboveMinRelevance]} # return all documents above minRelevance\n",
    "        else:\n",
    "            #maxScoreIndex = np.argmax(scores)\n",
    "            return {\"context\": [raw_results[0][0]]} # return the most relevant documen\n",
    "\n",
    "def generate(state: State):\n",
    "    print(\"state['context']\", state[\"context\"])\n",
    "    docs_content = \"\\n\\n\".join(doc.page_content for doc in state[\"context\"])\n",
    "    messages = prompt.invoke({\"question\": state[\"question\"], \"context\": docs_content})\n",
    "    response = llm.invoke(messages)\n",
    "    return {\"answer\": response.content}\n",
    "\n",
    "def generate2(state: State):\n",
    "    prompt = \"\"\"You are an assistant for question-answering tasks. Use the following pieces of retrieved context to answer the question.\"\"\"\n",
    "    who, how, whereTo = [], [], []\n",
    "    for doc in state[\"context\"]:\n",
    "        if \"who\" in doc.metadata[\"source\"]:\n",
    "            who.append(doc.page_content)\n",
    "        elif \"how\" in doc.metadata[\"source\"]:\n",
    "            how.append(doc.page_content)\n",
    "        elif \"whereTo\" in doc.metadata[\"source\"]:\n",
    "            whereTo.append(doc.page_content)\n",
    "    if who:\n",
    "        who_content = \"\\n\\n\".join(who)\n",
    "        prompt += f\"Context about {whoDescription}: {who_content}\\n.\"\n",
    "    if whereTo:\n",
    "        whereTo_content = \"\\n\\n\".join(whereTo)\n",
    "        prompt += f\"Context about {whereToDescription}: {whereTo_content}\\n.\"\n",
    "    if how:\n",
    "        how_content = \"\\n\\n\".join(how)\n",
    "        prompt += f\"Context about {howDescription}: {how_content}\\n.\"\n",
    "    \n",
    "    prompt += f\"Question: {state['question']}\\n.\"\n",
    "    print(prompt)\n",
    "    response = llm.invoke(prompt)\n",
    "    return {\"answer\": response.content}\n"
   ]
  },
  {
   "cell_type": "code",
   "execution_count": 120,
   "metadata": {},
   "outputs": [],
   "source": [
    "# Compile application and test\n",
    "graph_builder = StateGraph(State).add_sequence([retrieve, generate])\n",
    "graph_builder.add_edge(START, \"retrieve\")\n",
    "graph = graph_builder.compile()\n",
    "\n",
    "graph_builder2 = StateGraph(State).add_sequence([retrieve2, generate2])\n",
    "graph_builder2.add_edge(START, \"retrieve2\")\n",
    "graph2 = graph_builder2.compile()\n",
    "\n"
   ]
  },
  {
   "cell_type": "code",
   "execution_count": 121,
   "metadata": {},
   "outputs": [
    {
     "name": "stdout",
     "output_type": "stream",
     "text": [
      "len raw_results 32\n"
     ]
    },
    {
     "data": {
      "image/png": "[encoded data removed]",
      "text/plain": [
       "<Figure size 640x480 with 1 Axes>"
      ]
     },
     "metadata": {},
     "output_type": "display_data"
    },
    {
     "name": "stdout",
     "output_type": "stream",
     "text": [
      "state['context'] [Document(id='6ad69418-b1d8-4fcb-85f5-83afa92df118', metadata={'source': 'C:\\\\Users\\\\garre\\\\OneDrive\\\\Desktop\\\\Projects\\\\personAIble\\\\userModel\\\\how.json', 'seq_num': 1}, page_content='{\"what\": \"Develop a morning routine with exercise and mindfulness\", \"when\": \"Daily, 7:00 AM\", \"duration\": \"1 hour\"},'), Document(id='d4478e8c-2239-425a-972e-d082fbb942e5', metadata={'source': 'C:\\\\Users\\\\garre\\\\OneDrive\\\\Desktop\\\\Projects\\\\personAIble\\\\userModel\\\\how.json', 'seq_num': 1}, page_content='{\"what\": \"Apply to at least 5 jobs weekly\", \"when\": \"Mondays and Thursdays\", \"duration\": \"3 hours each day\"},'), Document(id='3fae4a6a-a715-48a5-95a9-ce387a10cc4c', metadata={'source': 'C:\\\\Users\\\\garre\\\\OneDrive\\\\Desktop\\\\Projects\\\\personAIble\\\\userModel\\\\how.json', 'seq_num': 1}, page_content='{\"what\": \"Visit potential apartments\", \"when\": \"March weekends\", \"duration\": \"3 hours per weekend\"}]}, {\"goal\":'), Document(id='364dd96d-4fc1-43f4-8b6f-05d7aef2542f', metadata={'source': 'C:\\\\Users\\\\garre\\\\OneDrive\\\\Desktop\\\\Projects\\\\personAIble\\\\userModel\\\\how.json', 'seq_num': 1}, page_content='{\"what\": \"Maintain a sleep schedule of 8 hours nightly\", \"when\": \"Daily, 10:00 PM to 6:00 AM\", \"duration\": \"8 hours\"}]}, {\"goal\":'), Document(id='71dc07d7-8fd0-4838-b0d4-78be3b75c5ae', metadata={'source': 'C:\\\\Users\\\\garre\\\\OneDrive\\\\Desktop\\\\Projects\\\\personAIble\\\\userModel\\\\how.json', 'seq_num': 1}, page_content='{\"what\": \"Plan and prepare healthy meals\", \"when\": \"Sundays\", \"duration\": \"2 hours\"},'), Document(id='bad485bb-f0bb-416c-a5e0-d24b509283d2', metadata={'source': 'C:\\\\Users\\\\garre\\\\OneDrive\\\\Desktop\\\\Projects\\\\personAIble\\\\userModel\\\\how.json', 'seq_num': 1}, page_content='{\"what\": \"Attend 2 networking events monthly\", \"when\": \"Second and fourth Wednesdays of the month\", \"duration\": \"3 hours per event\"}]}, {\"goal\":'), Document(id='671566cd-60ff-45f5-8f73-999f6f24d7e3', metadata={'source': 'C:\\\\Users\\\\garre\\\\OneDrive\\\\Desktop\\\\Projects\\\\personAIble\\\\userModel\\\\how.json', 'seq_num': 1}, page_content='{\"what\": \"Complete and refine resume and LinkedIn profile\", \"when\": \"2025-01-07\", \"duration\": \"2 hours\"},'), Document(id='dd386ae8-fa59-4afe-98fd-97deed41f288', metadata={'source': 'C:\\\\Users\\\\garre\\\\OneDrive\\\\Desktop\\\\Projects\\\\personAIble\\\\userModel\\\\how.json', 'seq_num': 1}, page_content='{\"what\": \"Practice technical interviews using Leetcode and mock interviews\", \"when\": \"Tuesdays, Thursdays, and Saturdays\", \"duration\": \"2 hours each session\"},'), Document(id='17bcd216-624c-4052-bb5f-f4f031609de9', metadata={'source': 'C:\\\\Users\\\\garre\\\\OneDrive\\\\Desktop\\\\Projects\\\\personAIble\\\\userModel\\\\how.json', 'seq_num': 1}, page_content='}, \"justification\": \"Good health and stable habits will enable Jimmy to sustain his ambition and efforts toward other goals.\", \"actionItem\": ['), Document(id='dd438269-0786-496a-a3cd-27f2bda85023', metadata={'source': 'C:\\\\Users\\\\garre\\\\OneDrive\\\\Desktop\\\\Projects\\\\personAIble\\\\userModel\\\\how.json', 'seq_num': 1}, page_content='{\"what\": \"Save $1000 per month for moving costs and rent\", \"when\": \"Monthly until move-out date\", \"duration\": \"Ongoing\"},'), Document(id='c164f9d2-b89f-447a-af99-13f665f9fffa', metadata={'source': 'C:\\\\Users\\\\garre\\\\OneDrive\\\\Desktop\\\\Projects\\\\personAIble\\\\userModel\\\\how.json', 'seq_num': 1}, page_content='{\"what\": \"Research affordable housing options\", \"when\": \"Weekends in February\", \"duration\": \"3 hours per weekend\"},'), Document(id='4515ff90-ecdd-4696-ab93-6619f5f3a67e', metadata={'source': 'C:\\\\Users\\\\garre\\\\OneDrive\\\\Desktop\\\\Projects\\\\personAIble\\\\userModel\\\\how.json', 'seq_num': 1}, page_content='{\"what\": \"Attend social mixers or community events monthly\", \"when\": \"Last Friday of each month\", \"duration\": \"3 hours\"},'), Document(id='ba0230dc-77ae-48e9-8e4e-d7048a9c7b3e', metadata={'source': 'C:\\\\Users\\\\garre\\\\OneDrive\\\\Desktop\\\\Projects\\\\personAIble\\\\userModel\\\\how.json', 'seq_num': 1}, page_content='{\"what\": \"Join local interest groups or clubs\", \"when\": \"January to March, Saturdays\", \"duration\": \"2 hours per session\"},'), Document(id='07d55754-ae3e-4f5a-888e-b1850c3db53f', metadata={'source': 'C:\\\\Users\\\\garre\\\\OneDrive\\\\Desktop\\\\Projects\\\\personAIble\\\\userModel\\\\how.json', 'seq_num': 1}, page_content='{\"description\": \"Build healthy habits for personal growth and stability\", \"deadline\": \"2025-06-01\"'), Document(id='5dd5b71f-eb60-4ff8-98ee-674c0de6926b', metadata={'source': 'C:\\\\Users\\\\garre\\\\OneDrive\\\\Desktop\\\\Projects\\\\personAIble\\\\userModel\\\\who.json', 'seq_num': 1}, page_content=', \"Playing games occasionally\", \"Building projects in Python\", \"Pursuing fun in moderation\", \"Networking\", \"Learning and problem-solving through leetcode\"]'), Document(id='c9c0f5fe-19f8-49f9-a789-0029b8e5ca48', metadata={'source': 'C:\\\\Users\\\\garre\\\\OneDrive\\\\Desktop\\\\Projects\\\\personAIble\\\\userModel\\\\whereTo.json', 'seq_num': 1}, page_content='{\"description\": \"Build healthy habits for personal growth and stability\", \"strength\": 8, \"timeliness\": \"6 months\"},'), Document(id='cb473647-a716-4edd-91f0-b93ffedb18c3', metadata={'source': 'C:\\\\Users\\\\garre\\\\OneDrive\\\\Desktop\\\\Projects\\\\personAIble\\\\userModel\\\\how.json', 'seq_num': 1}, page_content='}, \"justification\": \"Jimmy values independence and wants to establish a stable personal environment for growth and social development.\", \"actionItem\": ['), Document(id='32faf30a-60fb-4a7a-856b-024a8bedfd2f', metadata={'source': 'C:\\\\Users\\\\garre\\\\OneDrive\\\\Desktop\\\\Projects\\\\personAIble\\\\userModel\\\\whereTo.json', 'seq_num': 1}, page_content='{\"description\": \"Improve steadily and give the world the best effort\", \"strength\": 9, \"timeliness\": \"Ongoing\"}]}'), Document(id='7b14a894-0acc-4ecd-bd84-d4a9365cd08d', metadata={'source': 'C:\\\\Users\\\\garre\\\\OneDrive\\\\Desktop\\\\Projects\\\\personAIble\\\\userModel\\\\whereTo.json', 'seq_num': 1}, page_content='{\"desires\": [{\"description\": \"Move out of parents\\' house\", \"strength\": 9, \"timeliness\": \"6 months\"},'), Document(id='0e37fd1c-3669-4f6a-bb1e-bbcaa1346f37', metadata={'source': 'C:\\\\Users\\\\garre\\\\OneDrive\\\\Desktop\\\\Projects\\\\personAIble\\\\userModel\\\\how.json', 'seq_num': 1}, page_content='{\"subPlan\": [{\"goal\":'), Document(id='c3c90632-b552-45e1-9483-40654742c58d', metadata={'source': 'C:\\\\Users\\\\garre\\\\OneDrive\\\\Desktop\\\\Projects\\\\personAIble\\\\userModel\\\\how.json', 'seq_num': 1}, page_content='}, \"justification\": \"Jimmy values connections with others and wants to build meaningful relationships.\", \"actionItem\": [')]\n",
      "\n"
     ]
    },
    {
     "ename": "TypeError",
     "evalue": "generate2() missing 3 required positional arguments: 'whoDescription', 'whereToDescription', and 'howDescription'",
     "output_type": "error",
     "traceback": [
      "\u001b[1;31m---------------------------------------------------------------------------\u001b[0m",
      "\u001b[1;31mTypeError\u001b[0m                                 Traceback (most recent call last)",
      "Cell \u001b[1;32mIn[121], line 4\u001b[0m\n\u001b[0;32m      2\u001b[0m graph\u001b[38;5;241m.\u001b[39minvoke({\u001b[38;5;124m\"\u001b[39m\u001b[38;5;124mquestion\u001b[39m\u001b[38;5;124m\"\u001b[39m: question})\n\u001b[0;32m      3\u001b[0m \u001b[38;5;28mprint\u001b[39m()\n\u001b[1;32m----> 4\u001b[0m \u001b[43mgraph2\u001b[49m\u001b[38;5;241;43m.\u001b[39;49m\u001b[43minvoke\u001b[49m\u001b[43m(\u001b[49m\u001b[43m{\u001b[49m\u001b[38;5;124;43m\"\u001b[39;49m\u001b[38;5;124;43mquestion\u001b[39;49m\u001b[38;5;124;43m\"\u001b[39;49m\u001b[43m:\u001b[49m\u001b[43m \u001b[49m\u001b[43mquestion\u001b[49m\u001b[43m}\u001b[49m\u001b[43m)\u001b[49m\n",
      "File \u001b[1;32m~\\AppData\\Local\\Packages\\PythonSoftwareFoundation.Python.3.12_qbz5n2kfra8p0\\LocalCache\\local-packages\\Python312\\site-packages\\langgraph\\pregel\\__init__.py:1936\u001b[0m, in \u001b[0;36mPregel.invoke\u001b[1;34m(self, input, config, stream_mode, output_keys, interrupt_before, interrupt_after, debug, **kwargs)\u001b[0m\n\u001b[0;32m   1934\u001b[0m \u001b[38;5;28;01melse\u001b[39;00m:\n\u001b[0;32m   1935\u001b[0m     chunks \u001b[38;5;241m=\u001b[39m []\n\u001b[1;32m-> 1936\u001b[0m \u001b[43m\u001b[49m\u001b[38;5;28;43;01mfor\u001b[39;49;00m\u001b[43m \u001b[49m\u001b[43mchunk\u001b[49m\u001b[43m \u001b[49m\u001b[38;5;129;43;01min\u001b[39;49;00m\u001b[43m \u001b[49m\u001b[38;5;28;43mself\u001b[39;49m\u001b[38;5;241;43m.\u001b[39;49m\u001b[43mstream\u001b[49m\u001b[43m(\u001b[49m\n\u001b[0;32m   1937\u001b[0m \u001b[43m    \u001b[49m\u001b[38;5;28;43minput\u001b[39;49m\u001b[43m,\u001b[49m\n\u001b[0;32m   1938\u001b[0m \u001b[43m    \u001b[49m\u001b[43mconfig\u001b[49m\u001b[43m,\u001b[49m\n\u001b[0;32m   1939\u001b[0m \u001b[43m    \u001b[49m\u001b[43mstream_mode\u001b[49m\u001b[38;5;241;43m=\u001b[39;49m\u001b[43mstream_mode\u001b[49m\u001b[43m,\u001b[49m\n\u001b[0;32m   1940\u001b[0m \u001b[43m    \u001b[49m\u001b[43moutput_keys\u001b[49m\u001b[38;5;241;43m=\u001b[39;49m\u001b[43moutput_keys\u001b[49m\u001b[43m,\u001b[49m\n\u001b[0;32m   1941\u001b[0m \u001b[43m    \u001b[49m\u001b[43minterrupt_before\u001b[49m\u001b[38;5;241;43m=\u001b[39;49m\u001b[43minterrupt_before\u001b[49m\u001b[43m,\u001b[49m\n\u001b[0;32m   1942\u001b[0m \u001b[43m    \u001b[49m\u001b[43minterrupt_after\u001b[49m\u001b[38;5;241;43m=\u001b[39;49m\u001b[43minterrupt_after\u001b[49m\u001b[43m,\u001b[49m\n\u001b[0;32m   1943\u001b[0m \u001b[43m    \u001b[49m\u001b[43mdebug\u001b[49m\u001b[38;5;241;43m=\u001b[39;49m\u001b[43mdebug\u001b[49m\u001b[43m,\u001b[49m\n\u001b[0;32m   1944\u001b[0m \u001b[43m    \u001b[49m\u001b[38;5;241;43m*\u001b[39;49m\u001b[38;5;241;43m*\u001b[39;49m\u001b[43mkwargs\u001b[49m\u001b[43m,\u001b[49m\n\u001b[0;32m   1945\u001b[0m \u001b[43m\u001b[49m\u001b[43m)\u001b[49m\u001b[43m:\u001b[49m\n\u001b[0;32m   1946\u001b[0m \u001b[43m    \u001b[49m\u001b[38;5;28;43;01mif\u001b[39;49;00m\u001b[43m \u001b[49m\u001b[43mstream_mode\u001b[49m\u001b[43m \u001b[49m\u001b[38;5;241;43m==\u001b[39;49m\u001b[43m \u001b[49m\u001b[38;5;124;43m\"\u001b[39;49m\u001b[38;5;124;43mvalues\u001b[39;49m\u001b[38;5;124;43m\"\u001b[39;49m\u001b[43m:\u001b[49m\n\u001b[0;32m   1947\u001b[0m \u001b[43m        \u001b[49m\u001b[43mlatest\u001b[49m\u001b[43m \u001b[49m\u001b[38;5;241;43m=\u001b[39;49m\u001b[43m \u001b[49m\u001b[43mchunk\u001b[49m\n",
      "File \u001b[1;32m~\\AppData\\Local\\Packages\\PythonSoftwareFoundation.Python.3.12_qbz5n2kfra8p0\\LocalCache\\local-packages\\Python312\\site-packages\\langgraph\\pregel\\__init__.py:1656\u001b[0m, in \u001b[0;36mPregel.stream\u001b[1;34m(self, input, config, stream_mode, output_keys, interrupt_before, interrupt_after, debug, subgraphs)\u001b[0m\n\u001b[0;32m   1650\u001b[0m     \u001b[38;5;66;03m# Similarly to Bulk Synchronous Parallel / Pregel model\u001b[39;00m\n\u001b[0;32m   1651\u001b[0m     \u001b[38;5;66;03m# computation proceeds in steps, while there are channel updates\u001b[39;00m\n\u001b[0;32m   1652\u001b[0m     \u001b[38;5;66;03m# channel updates from step N are only visible in step N+1\u001b[39;00m\n\u001b[0;32m   1653\u001b[0m     \u001b[38;5;66;03m# channels are guaranteed to be immutable for the duration of the step,\u001b[39;00m\n\u001b[0;32m   1654\u001b[0m     \u001b[38;5;66;03m# with channel updates applied only at the transition between steps\u001b[39;00m\n\u001b[0;32m   1655\u001b[0m     \u001b[38;5;28;01mwhile\u001b[39;00m loop\u001b[38;5;241m.\u001b[39mtick(input_keys\u001b[38;5;241m=\u001b[39m\u001b[38;5;28mself\u001b[39m\u001b[38;5;241m.\u001b[39minput_channels):\n\u001b[1;32m-> 1656\u001b[0m \u001b[43m        \u001b[49m\u001b[38;5;28;43;01mfor\u001b[39;49;00m\u001b[43m \u001b[49m\u001b[43m_\u001b[49m\u001b[43m \u001b[49m\u001b[38;5;129;43;01min\u001b[39;49;00m\u001b[43m \u001b[49m\u001b[43mrunner\u001b[49m\u001b[38;5;241;43m.\u001b[39;49m\u001b[43mtick\u001b[49m\u001b[43m(\u001b[49m\n\u001b[0;32m   1657\u001b[0m \u001b[43m            \u001b[49m\u001b[43mloop\u001b[49m\u001b[38;5;241;43m.\u001b[39;49m\u001b[43mtasks\u001b[49m\u001b[38;5;241;43m.\u001b[39;49m\u001b[43mvalues\u001b[49m\u001b[43m(\u001b[49m\u001b[43m)\u001b[49m\u001b[43m,\u001b[49m\n\u001b[0;32m   1658\u001b[0m \u001b[43m            \u001b[49m\u001b[43mtimeout\u001b[49m\u001b[38;5;241;43m=\u001b[39;49m\u001b[38;5;28;43mself\u001b[39;49m\u001b[38;5;241;43m.\u001b[39;49m\u001b[43mstep_timeout\u001b[49m\u001b[43m,\u001b[49m\n\u001b[0;32m   1659\u001b[0m \u001b[43m            \u001b[49m\u001b[43mretry_policy\u001b[49m\u001b[38;5;241;43m=\u001b[39;49m\u001b[38;5;28;43mself\u001b[39;49m\u001b[38;5;241;43m.\u001b[39;49m\u001b[43mretry_policy\u001b[49m\u001b[43m,\u001b[49m\n\u001b[0;32m   1660\u001b[0m \u001b[43m            \u001b[49m\u001b[43mget_waiter\u001b[49m\u001b[38;5;241;43m=\u001b[39;49m\u001b[43mget_waiter\u001b[49m\u001b[43m,\u001b[49m\n\u001b[0;32m   1661\u001b[0m \u001b[43m        \u001b[49m\u001b[43m)\u001b[49m\u001b[43m:\u001b[49m\n\u001b[0;32m   1662\u001b[0m \u001b[43m            \u001b[49m\u001b[38;5;66;43;03m# emit output\u001b[39;49;00m\n\u001b[0;32m   1663\u001b[0m \u001b[43m            \u001b[49m\u001b[38;5;28;43;01myield from\u001b[39;49;00m\u001b[43m \u001b[49m\u001b[43moutput\u001b[49m\u001b[43m(\u001b[49m\u001b[43m)\u001b[49m\n\u001b[0;32m   1664\u001b[0m \u001b[38;5;66;03m# emit output\u001b[39;00m\n",
      "File \u001b[1;32m~\\AppData\\Local\\Packages\\PythonSoftwareFoundation.Python.3.12_qbz5n2kfra8p0\\LocalCache\\local-packages\\Python312\\site-packages\\langgraph\\pregel\\runner.py:167\u001b[0m, in \u001b[0;36mPregelRunner.tick\u001b[1;34m(self, tasks, reraise, timeout, retry_policy, get_waiter)\u001b[0m\n\u001b[0;32m    165\u001b[0m t \u001b[38;5;241m=\u001b[39m tasks[\u001b[38;5;241m0\u001b[39m]\n\u001b[0;32m    166\u001b[0m \u001b[38;5;28;01mtry\u001b[39;00m:\n\u001b[1;32m--> 167\u001b[0m     \u001b[43mrun_with_retry\u001b[49m\u001b[43m(\u001b[49m\n\u001b[0;32m    168\u001b[0m \u001b[43m        \u001b[49m\u001b[43mt\u001b[49m\u001b[43m,\u001b[49m\n\u001b[0;32m    169\u001b[0m \u001b[43m        \u001b[49m\u001b[43mretry_policy\u001b[49m\u001b[43m,\u001b[49m\n\u001b[0;32m    170\u001b[0m \u001b[43m        \u001b[49m\u001b[43mconfigurable\u001b[49m\u001b[38;5;241;43m=\u001b[39;49m\u001b[43m{\u001b[49m\n\u001b[0;32m    171\u001b[0m \u001b[43m            \u001b[49m\u001b[43mCONFIG_KEY_SEND\u001b[49m\u001b[43m:\u001b[49m\u001b[43m \u001b[49m\u001b[43mpartial\u001b[49m\u001b[43m(\u001b[49m\u001b[43mwriter\u001b[49m\u001b[43m,\u001b[49m\u001b[43m \u001b[49m\u001b[43mt\u001b[49m\u001b[43m)\u001b[49m\u001b[43m,\u001b[49m\n\u001b[0;32m    172\u001b[0m \u001b[43m            \u001b[49m\u001b[43mCONFIG_KEY_CALL\u001b[49m\u001b[43m:\u001b[49m\u001b[43m \u001b[49m\u001b[43mpartial\u001b[49m\u001b[43m(\u001b[49m\u001b[43mcall\u001b[49m\u001b[43m,\u001b[49m\u001b[43m \u001b[49m\u001b[43mt\u001b[49m\u001b[43m)\u001b[49m\u001b[43m,\u001b[49m\n\u001b[0;32m    173\u001b[0m \u001b[43m        \u001b[49m\u001b[43m}\u001b[49m\u001b[43m,\u001b[49m\n\u001b[0;32m    174\u001b[0m \u001b[43m    \u001b[49m\u001b[43m)\u001b[49m\n\u001b[0;32m    175\u001b[0m     \u001b[38;5;28mself\u001b[39m\u001b[38;5;241m.\u001b[39mcommit(t, \u001b[38;5;28;01mNone\u001b[39;00m)\n\u001b[0;32m    176\u001b[0m \u001b[38;5;28;01mexcept\u001b[39;00m \u001b[38;5;167;01mException\u001b[39;00m \u001b[38;5;28;01mas\u001b[39;00m exc:\n",
      "File \u001b[1;32m~\\AppData\\Local\\Packages\\PythonSoftwareFoundation.Python.3.12_qbz5n2kfra8p0\\LocalCache\\local-packages\\Python312\\site-packages\\langgraph\\pregel\\retry.py:40\u001b[0m, in \u001b[0;36mrun_with_retry\u001b[1;34m(task, retry_policy, configurable)\u001b[0m\n\u001b[0;32m     38\u001b[0m     task\u001b[38;5;241m.\u001b[39mwrites\u001b[38;5;241m.\u001b[39mclear()\n\u001b[0;32m     39\u001b[0m     \u001b[38;5;66;03m# run the task\u001b[39;00m\n\u001b[1;32m---> 40\u001b[0m     \u001b[38;5;28;01mreturn\u001b[39;00m \u001b[43mtask\u001b[49m\u001b[38;5;241;43m.\u001b[39;49m\u001b[43mproc\u001b[49m\u001b[38;5;241;43m.\u001b[39;49m\u001b[43minvoke\u001b[49m\u001b[43m(\u001b[49m\u001b[43mtask\u001b[49m\u001b[38;5;241;43m.\u001b[39;49m\u001b[43minput\u001b[49m\u001b[43m,\u001b[49m\u001b[43m \u001b[49m\u001b[43mconfig\u001b[49m\u001b[43m)\u001b[49m\n\u001b[0;32m     41\u001b[0m \u001b[38;5;28;01mexcept\u001b[39;00m ParentCommand \u001b[38;5;28;01mas\u001b[39;00m exc:\n\u001b[0;32m     42\u001b[0m     ns: \u001b[38;5;28mstr\u001b[39m \u001b[38;5;241m=\u001b[39m config[CONF][CONFIG_KEY_CHECKPOINT_NS]\n",
      "File \u001b[1;32m~\\AppData\\Local\\Packages\\PythonSoftwareFoundation.Python.3.12_qbz5n2kfra8p0\\LocalCache\\local-packages\\Python312\\site-packages\\langgraph\\utils\\runnable.py:408\u001b[0m, in \u001b[0;36mRunnableSeq.invoke\u001b[1;34m(self, input, config, **kwargs)\u001b[0m\n\u001b[0;32m    404\u001b[0m config \u001b[38;5;241m=\u001b[39m patch_config(\n\u001b[0;32m    405\u001b[0m     config, callbacks\u001b[38;5;241m=\u001b[39mrun_manager\u001b[38;5;241m.\u001b[39mget_child(\u001b[38;5;124mf\u001b[39m\u001b[38;5;124m\"\u001b[39m\u001b[38;5;124mseq:step:\u001b[39m\u001b[38;5;132;01m{\u001b[39;00mi\u001b[38;5;241m+\u001b[39m\u001b[38;5;241m1\u001b[39m\u001b[38;5;132;01m}\u001b[39;00m\u001b[38;5;124m\"\u001b[39m)\n\u001b[0;32m    406\u001b[0m )\n\u001b[0;32m    407\u001b[0m \u001b[38;5;28;01mif\u001b[39;00m i \u001b[38;5;241m==\u001b[39m \u001b[38;5;241m0\u001b[39m:\n\u001b[1;32m--> 408\u001b[0m     \u001b[38;5;28minput\u001b[39m \u001b[38;5;241m=\u001b[39m \u001b[43mstep\u001b[49m\u001b[38;5;241;43m.\u001b[39;49m\u001b[43minvoke\u001b[49m\u001b[43m(\u001b[49m\u001b[38;5;28;43minput\u001b[39;49m\u001b[43m,\u001b[49m\u001b[43m \u001b[49m\u001b[43mconfig\u001b[49m\u001b[43m,\u001b[49m\u001b[43m \u001b[49m\u001b[38;5;241;43m*\u001b[39;49m\u001b[38;5;241;43m*\u001b[39;49m\u001b[43mkwargs\u001b[49m\u001b[43m)\u001b[49m\n\u001b[0;32m    409\u001b[0m \u001b[38;5;28;01melse\u001b[39;00m:\n\u001b[0;32m    410\u001b[0m     \u001b[38;5;28minput\u001b[39m \u001b[38;5;241m=\u001b[39m step\u001b[38;5;241m.\u001b[39minvoke(\u001b[38;5;28minput\u001b[39m, config)\n",
      "File \u001b[1;32m~\\AppData\\Local\\Packages\\PythonSoftwareFoundation.Python.3.12_qbz5n2kfra8p0\\LocalCache\\local-packages\\Python312\\site-packages\\langgraph\\utils\\runnable.py:184\u001b[0m, in \u001b[0;36mRunnableCallable.invoke\u001b[1;34m(self, input, config, **kwargs)\u001b[0m\n\u001b[0;32m    182\u001b[0m \u001b[38;5;28;01melse\u001b[39;00m:\n\u001b[0;32m    183\u001b[0m     context\u001b[38;5;241m.\u001b[39mrun(_set_config_context, config)\n\u001b[1;32m--> 184\u001b[0m     ret \u001b[38;5;241m=\u001b[39m \u001b[43mcontext\u001b[49m\u001b[38;5;241;43m.\u001b[39;49m\u001b[43mrun\u001b[49m\u001b[43m(\u001b[49m\u001b[38;5;28;43mself\u001b[39;49m\u001b[38;5;241;43m.\u001b[39;49m\u001b[43mfunc\u001b[49m\u001b[43m,\u001b[49m\u001b[43m \u001b[49m\u001b[38;5;28;43minput\u001b[39;49m\u001b[43m,\u001b[49m\u001b[43m \u001b[49m\u001b[38;5;241;43m*\u001b[39;49m\u001b[38;5;241;43m*\u001b[39;49m\u001b[43mkwargs\u001b[49m\u001b[43m)\u001b[49m\n\u001b[0;32m    185\u001b[0m \u001b[38;5;28;01mif\u001b[39;00m \u001b[38;5;28misinstance\u001b[39m(ret, Runnable) \u001b[38;5;129;01mand\u001b[39;00m \u001b[38;5;28mself\u001b[39m\u001b[38;5;241m.\u001b[39mrecurse:\n\u001b[0;32m    186\u001b[0m     \u001b[38;5;28;01mreturn\u001b[39;00m ret\u001b[38;5;241m.\u001b[39minvoke(\u001b[38;5;28minput\u001b[39m, config)\n",
      "\u001b[1;31mTypeError\u001b[0m: generate2() missing 3 required positional arguments: 'whoDescription', 'whereToDescription', and 'howDescription'",
      "\u001b[0mDuring task with name 'generate2' and id 'd7de47cf-6670-7e37-ed72-87299cace2ac'"
     ]
    }
   ],
   "source": [
    "question = \"Given your knowledge of where I'd like to go, and the plan we've agreed upon, what should I be doing on a daily basis?\"\n",
    "graph.invoke({\"question\": question})\n",
    "print()\n",
    "graph2.invoke({\"question\": question})\n"
   ]
  },
  {
   "cell_type": "code",
   "execution_count": 92,
   "metadata": {},
   "outputs": [
    {
     "name": "stdout",
     "output_type": "stream",
     "text": [
      "len raw_results 32\n"
     ]
    },
    {
     "data": {
      "image/png": "[encoded data removed]",
      "text/plain": [
       "<Figure size 640x480 with 1 Axes>"
      ]
     },
     "metadata": {},
     "output_type": "display_data"
    },
    {
     "name": "stdout",
     "output_type": "stream",
     "text": [
      "state['context'] [Document(id='7421666e-3a8e-40fd-91f3-d220eea7d612', metadata={'source': 'C:\\\\Users\\\\garre\\\\OneDrive\\\\Desktop\\\\Projects\\\\personAIble\\\\userModel\\\\how.json', 'seq_num': 1}, page_content='{\"what\": \"Apply to at least 5 jobs weekly\", \"when\": \"Mondays and Thursdays\", \"duration\": \"3 hours each day\"},'), Document(id='1dd2a9c2-42d8-4ecc-954b-3f4e809173bb', metadata={'source': 'C:\\\\Users\\\\garre\\\\OneDrive\\\\Desktop\\\\Projects\\\\personAIble\\\\userModel\\\\whereTo.json', 'seq_num': 1}, page_content='{\"description\": \"Secure a job in Software Engineering or Machine Learning\", \"strength\": 10, \"timeliness\": \"3 months\"},'), Document(id='e4ec5139-ae7d-42a3-9ab1-2bd1cb66ee76', metadata={'source': 'C:\\\\Users\\\\garre\\\\OneDrive\\\\Desktop\\\\Projects\\\\personAIble\\\\userModel\\\\how.json', 'seq_num': 1}, page_content='{\"what\": \"Complete and refine resume and LinkedIn profile\", \"when\": \"2025-01-07\", \"duration\": \"2 hours\"},'), Document(id='316eb6db-95c5-4cd4-8a0e-847cf855ca1a', metadata={'source': 'C:\\\\Users\\\\garre\\\\OneDrive\\\\Desktop\\\\Projects\\\\personAIble\\\\userModel\\\\who.json', 'seq_num': 1}, page_content=', \"Personality Traits\": [\"Ambitious\", \"Hardworking\", \"Optimistic\", \"Goal-oriented\", \"Socially conscious\"], \"Hobbies/Interests\": [\"Reading news\", \"Playing games occasionally\"'), Document(id='c150ee6d-95bc-472f-89d8-fd48be00bfc9', metadata={'source': 'C:\\\\Users\\\\garre\\\\OneDrive\\\\Desktop\\\\Projects\\\\personAIble\\\\userModel\\\\how.json', 'seq_num': 1}, page_content='{\"description\": \"Secure a job in Software Engineering or Machine Learning\", \"deadline\": \"2025-03-31\"'), Document(id='dc16cca2-6962-4328-8a07-2d6df15d246b', metadata={'source': 'C:\\\\Users\\\\garre\\\\OneDrive\\\\Desktop\\\\Projects\\\\personAIble\\\\userModel\\\\how.json', 'seq_num': 1}, page_content='{\"what\": \"Practice technical interviews using Leetcode and mock interviews\", \"when\": \"Tuesdays, Thursdays, and Saturdays\", \"duration\": \"2 hours each session\"},'), Document(id='6d5be823-b130-4f30-ac7c-15101b11c5c1', metadata={'source': 'C:\\\\Users\\\\garre\\\\OneDrive\\\\Desktop\\\\Projects\\\\personAIble\\\\userModel\\\\how.json', 'seq_num': 1}, page_content='}, \"justification\": \"Jimmy has a strong passion for continuous improvement, making a positive difference, and leveraging his skills in programming and problem-solving.\", \"actionItem\": ['), Document(id='9ad3b4bb-9924-4964-bd17-628b18ecf3fa', metadata={'source': 'C:\\\\Users\\\\garre\\\\OneDrive\\\\Desktop\\\\Projects\\\\personAIble\\\\userModel\\\\who.json', 'seq_num': 1}, page_content=', \"Playing games occasionally\", \"Building projects in Python\", \"Pursuing fun in moderation\", \"Networking\", \"Learning and problem-solving through leetcode\"]'), Document(id='08923a62-8394-4022-8c62-827b7a0362c6', metadata={'source': 'C:\\\\Users\\\\garre\\\\OneDrive\\\\Desktop\\\\Projects\\\\personAIble\\\\userModel\\\\how.json', 'seq_num': 1}, page_content='{\"what\": \"Visit potential apartments\", \"when\": \"March weekends\", \"duration\": \"3 hours per weekend\"}]}, {\"goal\":')]\n"
     ]
    },
    {
     "data": {
      "text/plain": [
       "{'question': \"What's the best way for me to approach the job search, given what you know about me?\",\n",
       " 'context': [Document(id='7421666e-3a8e-40fd-91f3-d220eea7d612', metadata={'source': 'C:\\\\Users\\\\garre\\\\OneDrive\\\\Desktop\\\\Projects\\\\personAIble\\\\userModel\\\\how.json', 'seq_num': 1}, page_content='{\"what\": \"Apply to at least 5 jobs weekly\", \"when\": \"Mondays and Thursdays\", \"duration\": \"3 hours each day\"},'),\n",
       "  Document(id='1dd2a9c2-42d8-4ecc-954b-3f4e809173bb', metadata={'source': 'C:\\\\Users\\\\garre\\\\OneDrive\\\\Desktop\\\\Projects\\\\personAIble\\\\userModel\\\\whereTo.json', 'seq_num': 1}, page_content='{\"description\": \"Secure a job in Software Engineering or Machine Learning\", \"strength\": 10, \"timeliness\": \"3 months\"},'),\n",
       "  Document(id='e4ec5139-ae7d-42a3-9ab1-2bd1cb66ee76', metadata={'source': 'C:\\\\Users\\\\garre\\\\OneDrive\\\\Desktop\\\\Projects\\\\personAIble\\\\userModel\\\\how.json', 'seq_num': 1}, page_content='{\"what\": \"Complete and refine resume and LinkedIn profile\", \"when\": \"2025-01-07\", \"duration\": \"2 hours\"},'),\n",
       "  Document(id='316eb6db-95c5-4cd4-8a0e-847cf855ca1a', metadata={'source': 'C:\\\\Users\\\\garre\\\\OneDrive\\\\Desktop\\\\Projects\\\\personAIble\\\\userModel\\\\who.json', 'seq_num': 1}, page_content=', \"Personality Traits\": [\"Ambitious\", \"Hardworking\", \"Optimistic\", \"Goal-oriented\", \"Socially conscious\"], \"Hobbies/Interests\": [\"Reading news\", \"Playing games occasionally\"'),\n",
       "  Document(id='c150ee6d-95bc-472f-89d8-fd48be00bfc9', metadata={'source': 'C:\\\\Users\\\\garre\\\\OneDrive\\\\Desktop\\\\Projects\\\\personAIble\\\\userModel\\\\how.json', 'seq_num': 1}, page_content='{\"description\": \"Secure a job in Software Engineering or Machine Learning\", \"deadline\": \"2025-03-31\"'),\n",
       "  Document(id='dc16cca2-6962-4328-8a07-2d6df15d246b', metadata={'source': 'C:\\\\Users\\\\garre\\\\OneDrive\\\\Desktop\\\\Projects\\\\personAIble\\\\userModel\\\\how.json', 'seq_num': 1}, page_content='{\"what\": \"Practice technical interviews using Leetcode and mock interviews\", \"when\": \"Tuesdays, Thursdays, and Saturdays\", \"duration\": \"2 hours each session\"},'),\n",
       "  Document(id='6d5be823-b130-4f30-ac7c-15101b11c5c1', metadata={'source': 'C:\\\\Users\\\\garre\\\\OneDrive\\\\Desktop\\\\Projects\\\\personAIble\\\\userModel\\\\how.json', 'seq_num': 1}, page_content='}, \"justification\": \"Jimmy has a strong passion for continuous improvement, making a positive difference, and leveraging his skills in programming and problem-solving.\", \"actionItem\": ['),\n",
       "  Document(id='9ad3b4bb-9924-4964-bd17-628b18ecf3fa', metadata={'source': 'C:\\\\Users\\\\garre\\\\OneDrive\\\\Desktop\\\\Projects\\\\personAIble\\\\userModel\\\\who.json', 'seq_num': 1}, page_content=', \"Playing games occasionally\", \"Building projects in Python\", \"Pursuing fun in moderation\", \"Networking\", \"Learning and problem-solving through leetcode\"]'),\n",
       "  Document(id='08923a62-8394-4022-8c62-827b7a0362c6', metadata={'source': 'C:\\\\Users\\\\garre\\\\OneDrive\\\\Desktop\\\\Projects\\\\personAIble\\\\userModel\\\\how.json', 'seq_num': 1}, page_content='{\"what\": \"Visit potential apartments\", \"when\": \"March weekends\", \"duration\": \"3 hours per weekend\"}]}, {\"goal\":')],\n",
       " 'answer': 'To effectively approach your job search, aim to apply to at least five jobs weekly on Mondays and Thursdays, dedicating three hours each day to this task. Additionally, refine your resume and LinkedIn profile by January 7, 2025, and practice technical interviews on Tuesdays, Thursdays, and Saturdays for better preparation. Stay focused on securing a position in Software Engineering or Machine Learning by your deadline of March 31, 2025.'}"
      ]
     },
     "execution_count": 92,
     "metadata": {},
     "output_type": "execute_result"
    }
   ],
   "source": [
    "graph.invoke({\"question\": \"What's the best way for me to approach the job search, given what you know about me?\"})"
   ]
  },
  {
   "cell_type": "code",
   "execution_count": 103,
   "metadata": {},
   "outputs": [
    {
     "name": "stdout",
     "output_type": "stream",
     "text": [
      "len raw_results 32\n"
     ]
    },
    {
     "data": {
      "image/png": "[encoded data removed]",
      "text/plain": [
       "<Figure size 640x480 with 1 Axes>"
      ]
     },
     "metadata": {},
     "output_type": "display_data"
    },
    {
     "name": "stdout",
     "output_type": "stream",
     "text": [
      "state['context'] [Document(id='a1157d38-7591-4ce0-8557-d9d16b52230d', metadata={'source': 'C:\\\\Users\\\\garre\\\\OneDrive\\\\Desktop\\\\Projects\\\\personAIble\\\\userModel\\\\who.json', 'seq_num': 1}, page_content='}')]\n"
     ]
    },
    {
     "data": {
      "text/plain": [
       "{'question': 'this has nothing to do with the project, curiousity killed the cat',\n",
       " 'context': [Document(id='a1157d38-7591-4ce0-8557-d9d16b52230d', metadata={'source': 'C:\\\\Users\\\\garre\\\\OneDrive\\\\Desktop\\\\Projects\\\\personAIble\\\\userModel\\\\who.json', 'seq_num': 1}, page_content='}')],\n",
       " 'answer': \"I don't know.\"}"
      ]
     },
     "execution_count": 103,
     "metadata": {},
     "output_type": "execute_result"
    }
   ],
   "source": [
    "graph.invoke({\"question\": \"this has nothing to do with the project, curiousity killed the cat\"})"
   ]
  },
  {
   "cell_type": "code",
   "execution_count": null,
   "metadata": {},
   "outputs": [],
   "source": [
    "graph.invoke({\"question\": \"this has nothing to do with the project, curiousity killed the cat\"})"
   ]
  },
  {
   "cell_type": "code",
   "execution_count": 104,
   "metadata": {},
   "outputs": [
    {
     "name": "stdout",
     "output_type": "stream",
     "text": [
      "len raw_results 32\n"
     ]
    },
    {
     "data": {
      "image/png": "[encoded data removed]",
      "text/plain": [
       "<Figure size 640x480 with 1 Axes>"
      ]
     },
     "metadata": {},
     "output_type": "display_data"
    },
    {
     "name": "stdout",
     "output_type": "stream",
     "text": [
      "state['context'] [Document(id='4515ff90-ecdd-4696-ab93-6619f5f3a67e', metadata={'source': 'C:\\\\Users\\\\garre\\\\OneDrive\\\\Desktop\\\\Projects\\\\personAIble\\\\userModel\\\\how.json', 'seq_num': 1}, page_content='{\"what\": \"Attend social mixers or community events monthly\", \"when\": \"Last Friday of each month\", \"duration\": \"3 hours\"},')]\n"
     ]
    },
    {
     "data": {
      "text/plain": [
       "{'question': 'A donkey and a parrot walked into a bar. What happens next?',\n",
       " 'context': [Document(id='4515ff90-ecdd-4696-ab93-6619f5f3a67e', metadata={'source': 'C:\\\\Users\\\\garre\\\\OneDrive\\\\Desktop\\\\Projects\\\\personAIble\\\\userModel\\\\how.json', 'seq_num': 1}, page_content='{\"what\": \"Attend social mixers or community events monthly\", \"when\": \"Last Friday of each month\", \"duration\": \"3 hours\"},')],\n",
       " 'answer': \"I don't know.\"}"
      ]
     },
     "execution_count": 104,
     "metadata": {},
     "output_type": "execute_result"
    }
   ],
   "source": [
    "graph.invoke({\"question\": \"A donkey and a parrot walked into a bar. What happens next?\"})"
   ]
  },
  {
   "cell_type": "code",
   "execution_count": 105,
   "metadata": {},
   "outputs": [
    {
     "name": "stdout",
     "output_type": "stream",
     "text": [
      "len raw_results 32\n"
     ]
    },
    {
     "data": {
      "image/png": "[encoded data removed]",
      "text/plain": [
       "<Figure size 640x480 with 1 Axes>"
      ]
     },
     "metadata": {},
     "output_type": "display_data"
    },
    {
     "name": "stdout",
     "output_type": "stream",
     "text": [
      "state['context'] [Document(id='acc427a8-28cc-40ec-85e2-299b748b906a', metadata={'source': 'C:\\\\Users\\\\garre\\\\OneDrive\\\\Desktop\\\\Projects\\\\personAIble\\\\userModel\\\\how.json', 'seq_num': 1}, page_content='{\"description\": \"Secure a job in Software Engineering or Machine Learning\", \"deadline\": \"2025-03-31\"'), Document(id='385b64e2-ac81-4b88-8516-c9bf5a845324', metadata={'source': 'C:\\\\Users\\\\garre\\\\OneDrive\\\\Desktop\\\\Projects\\\\personAIble\\\\userModel\\\\whereTo.json', 'seq_num': 1}, page_content='{\"description\": \"Secure a job in Software Engineering or Machine Learning\", \"strength\": 10, \"timeliness\": \"3 months\"},')]\n"
     ]
    },
    {
     "data": {
      "text/plain": [
       "{'question': 'I am very interested in Arize AI. Tell me more about what they do.',\n",
       " 'context': [Document(id='acc427a8-28cc-40ec-85e2-299b748b906a', metadata={'source': 'C:\\\\Users\\\\garre\\\\OneDrive\\\\Desktop\\\\Projects\\\\personAIble\\\\userModel\\\\how.json', 'seq_num': 1}, page_content='{\"description\": \"Secure a job in Software Engineering or Machine Learning\", \"deadline\": \"2025-03-31\"'),\n",
       "  Document(id='385b64e2-ac81-4b88-8516-c9bf5a845324', metadata={'source': 'C:\\\\Users\\\\garre\\\\OneDrive\\\\Desktop\\\\Projects\\\\personAIble\\\\userModel\\\\whereTo.json', 'seq_num': 1}, page_content='{\"description\": \"Secure a job in Software Engineering or Machine Learning\", \"strength\": 10, \"timeliness\": \"3 months\"},')],\n",
       " 'answer': \"I don't know.\"}"
      ]
     },
     "execution_count": 105,
     "metadata": {},
     "output_type": "execute_result"
    }
   ],
   "source": [
    "graph.invoke({\"question\": \"I am very interested in Arize AI. Tell me more about what they do.\"})"
   ]
  },
  {
   "cell_type": "code",
   "execution_count": 106,
   "metadata": {},
   "outputs": [
    {
     "name": "stdout",
     "output_type": "stream",
     "text": [
      "len raw_results 32\n"
     ]
    },
    {
     "data": {
      "image/png": "[encoded data removed]",
      "text/plain": [
       "<Figure size 640x480 with 1 Axes>"
      ]
     },
     "metadata": {},
     "output_type": "display_data"
    },
    {
     "name": "stdout",
     "output_type": "stream",
     "text": [
      "state['context'] [Document(id='4515ff90-ecdd-4696-ab93-6619f5f3a67e', metadata={'source': 'C:\\\\Users\\\\garre\\\\OneDrive\\\\Desktop\\\\Projects\\\\personAIble\\\\userModel\\\\how.json', 'seq_num': 1}, page_content='{\"what\": \"Attend social mixers or community events monthly\", \"when\": \"Last Friday of each month\", \"duration\": \"3 hours\"},')]\n"
     ]
    },
    {
     "data": {
      "text/plain": [
       "{'question': 'my milkshake brings all the boys to the yard. What is a milkshake?',\n",
       " 'context': [Document(id='4515ff90-ecdd-4696-ab93-6619f5f3a67e', metadata={'source': 'C:\\\\Users\\\\garre\\\\OneDrive\\\\Desktop\\\\Projects\\\\personAIble\\\\userModel\\\\how.json', 'seq_num': 1}, page_content='{\"what\": \"Attend social mixers or community events monthly\", \"when\": \"Last Friday of each month\", \"duration\": \"3 hours\"},')],\n",
       " 'answer': \"I don't know.\"}"
      ]
     },
     "execution_count": 106,
     "metadata": {},
     "output_type": "execute_result"
    }
   ],
   "source": [
    "graph.invoke({\"question\": \"my milkshake brings all the boys to the yard. What is a milkshake?\"})"
   ]
  },
  {
   "cell_type": "code",
   "execution_count": null,
   "metadata": {},
   "outputs": [],
   "source": []
  }
 ],
 "metadata": {
  "kernelspec": {
   "display_name": "Python 3",
   "language": "python",
   "name": "python3"
  },
  "language_info": {
   "codemirror_mode": {
    "name": "ipython",
    "version": 3
   },
   "file_extension": ".py",
   "mimetype": "text/x-python",
   "name": "python",
   "nbconvert_exporter": "python",
   "pygments_lexer": "ipython3",
   "version": "3.12.8"
  }
 },
 "nbformat": 4,
 "nbformat_minor": 2
}
