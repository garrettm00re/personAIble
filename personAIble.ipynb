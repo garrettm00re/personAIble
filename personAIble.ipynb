{
 "cells": [
  {
   "cell_type": "code",
   "execution_count": 14,
   "metadata": {},
   "outputs": [],
   "source": [
    "from langchain import hub\n",
    "from langchain_community.document_loaders import WebBaseLoader\n",
    "from langchain_core.documents import Document\n",
    "from langchain_text_splitters import RecursiveCharacterTextSplitter\n",
    "from langgraph.graph import START, StateGraph\n",
    "from typing_extensions import List, TypedDict\n",
    "\n",
    "\n",
    "from langchain_openai import ChatOpenAI\n",
    "from langchain_openai import OpenAIEmbeddings\n",
    "from langchain_core.vectorstores import InMemoryVectorStore\n",
    "\n",
    "\n",
    "from dotenv import load_dotenv\n",
    "import os\n",
    "from langchain.document_loaders import JSONLoader\n",
    "import numpy as np\n",
    "import matplotlib.pyplot as plt\n",
    "\n",
    "from concurrent.futures import ThreadPoolExecutor, as_completed # for parallelizing research\n",
    "import json\n"
   ]
  },
  {
   "cell_type": "code",
   "execution_count": 2,
   "metadata": {},
   "outputs": [
    {
     "data": {
      "text/plain": [
       "True"
      ]
     },
     "execution_count": 2,
     "metadata": {},
     "output_type": "execute_result"
    }
   ],
   "source": [
    "load_dotenv(override=True)  # This will load environment variables from .env file"
   ]
  },
  {
   "cell_type": "code",
   "execution_count": 3,
   "metadata": {},
   "outputs": [],
   "source": [
    "embeddings = OpenAIEmbeddings(model=\"text-embedding-3-large\") ## why?\n",
    "vector_store = InMemoryVectorStore(embeddings) # why?\n",
    "llm = ChatOpenAI(model=\"gpt-4o-mini\") # why?"
   ]
  },
  {
   "cell_type": "code",
   "execution_count": 4,
   "metadata": {},
   "outputs": [],
   "source": [
    "loader1 = JSONLoader(\n",
    "    file_path=\"charlesRiverAssets/how.json\",\n",
    "    jq_schema='.', #Get everything (entire JSON)\n",
    "    text_content=False\n",
    ")\n",
    "\n",
    "loader2 = JSONLoader(\n",
    "    file_path=\"charlesRiverAssets/whereTo.json\",\n",
    "    jq_schema='.', #Get everything (entire JSON)\n",
    "    text_content=False\n",
    ")\n",
    "\n",
    "loader3 = JSONLoader(\n",
    "    file_path=\"charlesRiverAssets/who.json\",\n",
    "    jq_schema='.', #Get everything (entire JSON)\n",
    "    text_content=False\n",
    ")\n",
    "\n",
    "# Combine documents from all loaders\n",
    "documents = []\n",
    "for loader in [loader1, loader2, loader3]:\n",
    "    documents.extend(loader.load())\n"
   ]
  },
  {
   "cell_type": "code",
   "execution_count": 5,
   "metadata": {},
   "outputs": [],
   "source": [
    "text_splitter = RecursiveCharacterTextSplitter(\n",
    "    chunk_size=200, \n",
    "    chunk_overlap=40,\n",
    "    separators=[\"{\", \"}\", \",\", \"\\n\"]\n",
    "    )\n",
    "all_splits = text_splitter.split_documents(documents)"
   ]
  },
  {
   "cell_type": "code",
   "execution_count": 6,
   "metadata": {},
   "outputs": [
    {
     "name": "stdout",
     "output_type": "stream",
     "text": [
      "41\n",
      "===============\n",
      "page_content='{\"subPlans\": [{\"goal\":' metadata={'source': 'C:\\\\Users\\\\garre\\\\OneDrive\\\\Desktop\\\\Projects\\\\personAIble\\\\charlesRiverAssets\\\\how.json', 'seq_num': 1}\n",
      "===============\n",
      "page_content='{\"description\": \"Improve client engagement and streamline post-project support systems for Precision Solutions by April 2024.\", \"deadline\": \"2024-04-30\"' metadata={'source': 'C:\\\\Users\\\\garre\\\\OneDrive\\\\Desktop\\\\Projects\\\\personAIble\\\\charlesRiverAssets\\\\how.json', 'seq_num': 1}\n",
      "===============\n",
      "page_content='}, \"justification\": \"To enhance customer satisfaction and strengthen long-term business relationships while reflecting Charles' value of continuous improvement.\", \"actionItems\": [' metadata={'source': 'C:\\\\Users\\\\garre\\\\OneDrive\\\\Desktop\\\\Projects\\\\personAIble\\\\charlesRiverAssets\\\\how.json', 'seq_num': 1}\n",
      "===============\n",
      "page_content='{\"what\": \"Conduct a comprehensive analysis of current client engagement practices and identify key areas for improvement.\", \"when\": \"Every Monday, 9 AM - 11 AM\", \"duration\": \"2 hours per session\"},' metadata={'source': 'C:\\\\Users\\\\garre\\\\OneDrive\\\\Desktop\\\\Projects\\\\personAIble\\\\charlesRiverAssets\\\\how.json', 'seq_num': 1}\n",
      "===============\n",
      "page_content='{\"what\": \"Develop a detailed plan for post-project support enhancements, including automation of follow-ups.\", \"when\": \"Every Wednesday, 1 PM - 3 PM\", \"duration\": \"2 hours per session\"},' metadata={'source': 'C:\\\\Users\\\\garre\\\\OneDrive\\\\Desktop\\\\Projects\\\\personAIble\\\\charlesRiverAssets\\\\how.json', 'seq_num': 1}\n",
      "===============\n",
      "page_content='{\"what\": \"Implement training sessions for the team on the new engagement and support systems.\", \"when\": \"Every Friday, 10 AM - 12 PM\", \"duration\": \"2 hours per session\"}]}, {\"goal\":' metadata={'source': 'C:\\\\Users\\\\garre\\\\OneDrive\\\\Desktop\\\\Projects\\\\personAIble\\\\charlesRiverAssets\\\\how.json', 'seq_num': 1}\n",
      "===============\n",
      "page_content='{\"description\": \"Reduce client onboarding time by 75% by April 2024.\", \"deadline\": \"2024-04-30\"' metadata={'source': 'C:\\\\Users\\\\garre\\\\OneDrive\\\\Desktop\\\\Projects\\\\personAIble\\\\charlesRiverAssets\\\\how.json', 'seq_num': 1}\n",
      "===============\n",
      "page_content='}, \"justification\": \"To increase operational efficiency and enhance customer experience, aligning with Charles' value of precision in execution.\", \"actionItems\": [' metadata={'source': 'C:\\\\Users\\\\garre\\\\OneDrive\\\\Desktop\\\\Projects\\\\personAIble\\\\charlesRiverAssets\\\\how.json', 'seq_num': 1}\n",
      "===============\n",
      "page_content='{\"what\": \"Map out the existing client onboarding process and identify bottlenecks.\", \"when\": \"Every Tuesday, 10 AM - 12 PM\", \"duration\": \"2 hours per session\"},' metadata={'source': 'C:\\\\Users\\\\garre\\\\OneDrive\\\\Desktop\\\\Projects\\\\personAIble\\\\charlesRiverAssets\\\\how.json', 'seq_num': 1}\n",
      "===============\n",
      "page_content='{\"what\": \"Design and test streamlined onboarding procedures with a focus on automation.\", \"when\": \"Every Thursday, 2 PM - 4 PM\", \"duration\": \"2 hours per session\"},' metadata={'source': 'C:\\\\Users\\\\garre\\\\OneDrive\\\\Desktop\\\\Projects\\\\personAIble\\\\charlesRiverAssets\\\\how.json', 'seq_num': 1}\n",
      "===============\n",
      "page_content='{\"what\": \"Roll out the new onboarding protocol and monitor its impact.\", \"when\": \"Bi-weekly on Mondays, 3 PM - 4 PM\", \"duration\": \"1 hour per session\"}]}, {\"goal\":' metadata={'source': 'C:\\\\Users\\\\garre\\\\OneDrive\\\\Desktop\\\\Projects\\\\personAIble\\\\charlesRiverAssets\\\\how.json', 'seq_num': 1}\n",
      "===============\n",
      "page_content='{\"description\": \"Achieve a 20% increase in client retention by October 2024.\", \"deadline\": \"2024-10-31\"' metadata={'source': 'C:\\\\Users\\\\garre\\\\OneDrive\\\\Desktop\\\\Projects\\\\personAIble\\\\charlesRiverAssets\\\\how.json', 'seq_num': 1}\n",
      "===============\n",
      "page_content='}, \"justification\": \"To boost business growth and ensure sustainable success, leveraging Charles' analytical thinking and decision-making skills.\", \"actionItems\": [' metadata={'source': 'C:\\\\Users\\\\garre\\\\OneDrive\\\\Desktop\\\\Projects\\\\personAIble\\\\charlesRiverAssets\\\\how.json', 'seq_num': 1}\n",
      "===============\n",
      "page_content='{\"what\": \"Analyze client feedback and identify key retention factors.\", \"when\": \"Every Wednesday, 10 AM - 11 AM\", \"duration\": \"1 hour per session\"},' metadata={'source': 'C:\\\\Users\\\\garre\\\\OneDrive\\\\Desktop\\\\Projects\\\\personAIble\\\\charlesRiverAssets\\\\how.json', 'seq_num': 1}\n",
      "===============\n",
      "page_content='{\"what\": \"Develop and implement new client retention strategies, such as loyalty programs.\", \"when\": \"Every Friday, 11 AM - 1 PM\", \"duration\": \"2 hours per session\"},' metadata={'source': 'C:\\\\Users\\\\garre\\\\OneDrive\\\\Desktop\\\\Projects\\\\personAIble\\\\charlesRiverAssets\\\\how.json', 'seq_num': 1}\n",
      "===============\n",
      "page_content='{\"what\": \"Evaluate retention strategy effectiveness quarterly and adjust accordingly.\", \"when\": \"Quarterly, first Monday of the month, 2 PM - 3 PM\", \"duration\": \"1 hour per session\"}]}, {\"goal\":' metadata={'source': 'C:\\\\Users\\\\garre\\\\OneDrive\\\\Desktop\\\\Projects\\\\personAIble\\\\charlesRiverAssets\\\\how.json', 'seq_num': 1}\n",
      "===============\n",
      "page_content='{\"description\": \"Complete Lean Six Sigma Black Belt certification by September 2025.\", \"deadline\": \"2025-09-30\"' metadata={'source': 'C:\\\\Users\\\\garre\\\\OneDrive\\\\Desktop\\\\Projects\\\\personAIble\\\\charlesRiverAssets\\\\how.json', 'seq_num': 1}\n",
      "===============\n",
      "page_content='}, \"justification\": \"To enhance Charles' strategic foresight and operational expertise consistent with his goal-oriented personality.\", \"actionItems\": [' metadata={'source': 'C:\\\\Users\\\\garre\\\\OneDrive\\\\Desktop\\\\Projects\\\\personAIble\\\\charlesRiverAssets\\\\how.json', 'seq_num': 1}\n",
      "===============\n",
      "page_content='{\"what\": \"Enroll in a Lean Six Sigma Black Belt certification course.\", \"when\": \"December 2023\", \"duration\": \"One-time enrollment\"},' metadata={'source': 'C:\\\\Users\\\\garre\\\\OneDrive\\\\Desktop\\\\Projects\\\\personAIble\\\\charlesRiverAssets\\\\how.json', 'seq_num': 1}\n",
      "===============\n",
      "page_content='{\"what\": \"Dedicate time for study and practice exams.\", \"when\": \"Twice a week, Thursday and Saturday, 8 PM - 10 PM\", \"duration\": \"2 hours per session\"},' metadata={'source': 'C:\\\\Users\\\\garre\\\\OneDrive\\\\Desktop\\\\Projects\\\\personAIble\\\\charlesRiverAssets\\\\how.json', 'seq_num': 1}\n",
      "===============\n",
      "page_content='{\"what\": \"Participate in relevant projects to apply Lean Six Sigma principles.\", \"when\": \"Monthly project engagement\", \"duration\": \"Variable\"}]}, {\"goal\":' metadata={'source': 'C:\\\\Users\\\\garre\\\\OneDrive\\\\Desktop\\\\Projects\\\\personAIble\\\\charlesRiverAssets\\\\how.json', 'seq_num': 1}\n",
      "===============\n",
      "page_content='{\"description\": \"Host the first leadership workshop by June 2025.\", \"deadline\": \"2025-06-30\"' metadata={'source': 'C:\\\\Users\\\\garre\\\\OneDrive\\\\Desktop\\\\Projects\\\\personAIble\\\\charlesRiverAssets\\\\how.json', 'seq_num': 1}\n",
      "===============\n",
      "page_content='}, \"justification\": \"To share knowledge and mentor emerging leaders, aligning with Charles' interest in mentoring and community impact.\", \"actionItems\": [' metadata={'source': 'C:\\\\Users\\\\garre\\\\OneDrive\\\\Desktop\\\\Projects\\\\personAIble\\\\charlesRiverAssets\\\\how.json', 'seq_num': 1}\n",
      "===============\n",
      "page_content='{\"what\": \"Research and outline key topics for the workshop.\", \"when\": \"Every Saturday, 9 AM - 11 AM\", \"duration\": \"2 hours per session\"},' metadata={'source': 'C:\\\\Users\\\\garre\\\\OneDrive\\\\Desktop\\\\Projects\\\\personAIble\\\\charlesRiverAssets\\\\how.json', 'seq_num': 1}\n",
      "===============\n",
      "page_content='{\"what\": \"Identify and collaborate with industry experts for guest speaking engagements.\", \"when\": \"Monthly, second Tuesday of the month, 1 PM - 2 PM\", \"duration\": \"1 hour per session\"},' metadata={'source': 'C:\\\\Users\\\\garre\\\\OneDrive\\\\Desktop\\\\Projects\\\\personAIble\\\\charlesRiverAssets\\\\how.json', 'seq_num': 1}\n",
      "===============\n",
      "page_content='{\"what\": \"Organize and market the workshop to a targeted audience.\", \"when\": \"Starting January 2025, bi-weekly on Thursdays, 3 PM - 4 PM\", \"duration\": \"1 hour per session\"}]}]}' metadata={'source': 'C:\\\\Users\\\\garre\\\\OneDrive\\\\Desktop\\\\Projects\\\\personAIble\\\\charlesRiverAssets\\\\how.json', 'seq_num': 1}\n",
      "===============\n",
      "page_content='{\"desires\": [{\"description\": \"Improve client engagement and streamline post-project support systems for Precision Solutions.\", \"strength\": 9, \"timeliness\": \"6 months\"},' metadata={'source': 'C:\\\\Users\\\\garre\\\\OneDrive\\\\Desktop\\\\Projects\\\\personAIble\\\\charlesRiverAssets\\\\whereTo.json', 'seq_num': 1}\n",
      "===============\n",
      "page_content='{\"description\": \"Increase Precision Solutions' annual revenue to $2M by the end of 2025.\", \"strength\": 10, \"timeliness\": \"2 years\"},' metadata={'source': 'C:\\\\Users\\\\garre\\\\OneDrive\\\\Desktop\\\\Projects\\\\personAIble\\\\charlesRiverAssets\\\\whereTo.json', 'seq_num': 1}\n",
      "===============\n",
      "page_content='{\"description\": \"Develop an AI-powered supply chain optimization tool by 2026.\", \"strength\": 8, \"timeliness\": \"3 years\"},' metadata={'source': 'C:\\\\Users\\\\garre\\\\OneDrive\\\\Desktop\\\\Projects\\\\personAIble\\\\charlesRiverAssets\\\\whereTo.json', 'seq_num': 1}\n",
      "===============\n",
      "page_content='{\"description\": \"Complete Lean Six Sigma Black Belt certification by Q3 2025.\", \"strength\": 8, \"timeliness\": \"2 years\"},' metadata={'source': 'C:\\\\Users\\\\garre\\\\OneDrive\\\\Desktop\\\\Projects\\\\personAIble\\\\charlesRiverAssets\\\\whereTo.json', 'seq_num': 1}\n",
      "===============\n",
      "page_content='{\"description\": \"Reduce client onboarding time by 75% within the next six months.\", \"strength\": 9, \"timeliness\": \"6 months\"},' metadata={'source': 'C:\\\\Users\\\\garre\\\\OneDrive\\\\Desktop\\\\Projects\\\\personAIble\\\\charlesRiverAssets\\\\whereTo.json', 'seq_num': 1}\n",
      "===============\n",
      "page_content='{\"description\": \"Host first leadership workshop by mid-2025.\", \"strength\": 7, \"timeliness\": \"2 years\"},' metadata={'source': 'C:\\\\Users\\\\garre\\\\OneDrive\\\\Desktop\\\\Projects\\\\personAIble\\\\charlesRiverAssets\\\\whereTo.json', 'seq_num': 1}\n",
      "===============\n",
      "page_content='{\"description\": \"Achieve a 20% increase in client retention within 1 year.\", \"strength\": 9, \"timeliness\": \"1 year\"},' metadata={'source': 'C:\\\\Users\\\\garre\\\\OneDrive\\\\Desktop\\\\Projects\\\\personAIble\\\\charlesRiverAssets\\\\whereTo.json', 'seq_num': 1}\n",
      "===============\n",
      "page_content='{\"description\": \"Publish a book on data-driven leadership.\", \"strength\": 7, \"timeliness\": \"5 years\"},' metadata={'source': 'C:\\\\Users\\\\garre\\\\OneDrive\\\\Desktop\\\\Projects\\\\personAIble\\\\charlesRiverAssets\\\\whereTo.json', 'seq_num': 1}\n",
      "===============\n",
      "page_content='{\"description\": \"Create a legacy of professional excellence and community impact.\", \"strength\": 10, \"timeliness\": \"10 years\"},' metadata={'source': 'C:\\\\Users\\\\garre\\\\OneDrive\\\\Desktop\\\\Projects\\\\personAIble\\\\charlesRiverAssets\\\\whereTo.json', 'seq_num': 1}\n",
      "===============\n",
      "page_content='{\"description\": \"Strengthen personal relationships with family by ensuring they feel prioritized.\", \"strength\": 9, \"timeliness\": \"ongoing\"}]}' metadata={'source': 'C:\\\\Users\\\\garre\\\\OneDrive\\\\Desktop\\\\Projects\\\\personAIble\\\\charlesRiverAssets\\\\whereTo.json', 'seq_num': 1}\n",
      "===============\n",
      "page_content='{\"Name\": \"Charles River\", \"DOB\": \"1976\", \"Gender\": \"Male\", \"Core Values\": [\"Precision in execution\", \"Data-backed decisions\", \"Open, honest feedback\", \"Continuous improvement\"' metadata={'source': 'C:\\\\Users\\\\garre\\\\OneDrive\\\\Desktop\\\\Projects\\\\personAIble\\\\charlesRiverAssets\\\\who.json', 'seq_num': 1}\n",
      "===============\n",
      "page_content=', \"Continuous improvement\", \"Transparency in communication\", \"Integrity in decision-making\", \"Resilience in overcoming challenges\"], \"Personality Traits\": [\"Goal-oriented\", \"Systematic\", \"Resourceful\"' metadata={'source': 'C:\\\\Users\\\\garre\\\\OneDrive\\\\Desktop\\\\Projects\\\\personAIble\\\\charlesRiverAssets\\\\who.json', 'seq_num': 1}\n",
      "===============\n",
      "page_content=', \"Systematic\", \"Resourceful\", \"Strategic foresight\", \"Analytical thinking\", \"Decisive\"], \"Hobbies/Interests\": [\"Backpacking and hiking\", \"Crafting custom modern furniture\"' metadata={'source': 'C:\\\\Users\\\\garre\\\\OneDrive\\\\Desktop\\\\Projects\\\\personAIble\\\\charlesRiverAssets\\\\who.json', 'seq_num': 1}\n",
      "===============\n",
      "page_content=', \"Crafting custom modern furniture\", \"Analyzing Enlightenment philosophers\", \"Woodworking\", \"Mentoring\"]' metadata={'source': 'C:\\\\Users\\\\garre\\\\OneDrive\\\\Desktop\\\\Projects\\\\personAIble\\\\charlesRiverAssets\\\\who.json', 'seq_num': 1}\n",
      "===============\n",
      "page_content='}' metadata={'source': 'C:\\\\Users\\\\garre\\\\OneDrive\\\\Desktop\\\\Projects\\\\personAIble\\\\charlesRiverAssets\\\\who.json', 'seq_num': 1}\n"
     ]
    }
   ],
   "source": [
    "print(len(all_splits))\n",
    "for doc in all_splits:\n",
    "    print(\"===============\")\n",
    "    print(doc)"
   ]
  },
  {
   "cell_type": "code",
   "execution_count": 7,
   "metadata": {},
   "outputs": [],
   "source": [
    "# Index chunks\n",
    "_ = vector_store.add_documents(documents=all_splits)"
   ]
  },
  {
   "cell_type": "code",
   "execution_count": 8,
   "metadata": {},
   "outputs": [],
   "source": [
    "whoSchema = \"\"\"{\n",
    "    Name: string,\n",
    "    DOB: string,  // ISO date format\n",
    "    Gender: string,\n",
    "    \"Core Values\": string[],\n",
    "    \"Personality Traits\": string[],\n",
    "    \"Hobbies/Interests\": string[]\n",
    "    }\"\"\"\n",
    "whereToSchema = \"\"\"{\n",
    "desires: Array<{\n",
    "    description: string,\n",
    "    strength: number,  // Scale 1-10\n",
    "    timeliness: string // Time period or \"Ongoing\"\n",
    "}>\n",
    "}\"\"\"\n",
    "howSchema = \"\"\"{\n",
    "subPlan: Array<{\n",
    "    goal: {\n",
    "        description: string,\n",
    "        deadline: string  // ISO date format\n",
    "    },\n",
    "    justification: string,\n",
    "    actionItems: Array<{\n",
    "        what: string,\n",
    "        when: string,    // Schedule description\n",
    "        duration: string  // Time period\n",
    "    }>\n",
    "}>\n",
    "}\"\"\"\n",
    "whoDescription = \"personal information about the user.\"\n",
    "whereToDescription = \"information about the user's most important desires.\"\n",
    "howDescription = \"information about the user's plan to obtain each of their desires from a high level.\"\n",
    "dataSourcesAndDescriptions = [(whoSchema, whoDescription), (whereToSchema, whereToDescription), (howSchema, howDescription)]"
   ]
  },
  {
   "cell_type": "code",
   "execution_count": 26,
   "metadata": {},
   "outputs": [],
   "source": [
    "user = json.load(open(\"./charlesRiverAssets/who.json\"))[\"Name\"]\n",
    "promptFXN = lambda state: f\"\"\"You are {user}'s assistant for question-answering tasks. Use the following pieces of retrieved context to answer the question. If you don't know the answer, just say that you don't know. Use three sentences maximum and keep the answer concise.\n",
    "            Question: {state['question']}\n",
    "            Context: {state['context']}\n",
    "            \"\"\""
   ]
  },
  {
   "cell_type": "code",
   "execution_count": 40,
   "metadata": {},
   "outputs": [],
   "source": [
    "# Define state for application\n",
    "class State(TypedDict):\n",
    "    question: str\n",
    "    context: List[Document]\n",
    "    answer: str\n",
    "    desiredInformation: List[str]\n",
    "\n",
    "def getScore(cosineSimilarity):\n",
    "    return cosineSimilarity #abs(cosineSimilarity)\n",
    "# Define application steps\n",
    "\n",
    "def research(state: State):\n",
    "    prompt = f\"You are a helpful assistant preparing to answer the following question: {state['question']}. Generate a short (2 - 3 item) list of information about the user that would help you to answer their question accurately. Return the list as a newline-separated string.\"\n",
    "    response = llm.invoke(prompt)\n",
    "    return {\"desiredInformation\": response.content.split(\"\\n\")}\n",
    "\n",
    "def retrieve(state: State, minRelevance = 0.2, numStdDev = 2):\n",
    "    def getMostRelevant(raw_results):\n",
    "        scores = np.array([cosine_similarity for _, cosine_similarity in raw_results])\n",
    "        mean = np.mean(scores)\n",
    "        std = np.std(scores)\n",
    "        if True:\n",
    "            plt.hist(scores)\n",
    "            plt.show()\n",
    "        return [raw_results[i][0] for i in np.where(scores >= mean + (std*numStdDev))[0] if raw_results[i][1] >= minRelevance]\n",
    "    \n",
    "    desiredInformation = state[\"desiredInformation\"]\n",
    "    print(len(desiredInformation))\n",
    "    docs = {}\n",
    "    with ThreadPoolExecutor() as executor:\n",
    "        future_to_info = {\n",
    "            executor.submit(\n",
    "                vector_store.similarity_search_with_score, info, k=len(all_splits)\n",
    "            ): info for info in desiredInformation\n",
    "        }\n",
    "        for future in as_completed(future_to_info):\n",
    "            info = future_to_info[future]\n",
    "            print(f\"Processing search results for: {info}\")\n",
    "            raw_results = future.result()\n",
    "            relevant = getMostRelevant(raw_results)\n",
    "            # Add relevant docs to shared dict\n",
    "            for doc in relevant:\n",
    "                docs[doc.id] = doc\n",
    "    return {\"context\": list(docs.values())}\n",
    "\n",
    "def generate(state: State):\n",
    "    prompt = promptFXN(state)\n",
    "    response = llm.invoke(prompt)\n",
    "    print(\"STATE PRINT\", state)\n",
    "    return {\"answer\": response.content}\n",
    "\n",
    "# def retrieve2(state: State, minRelevance = 0.2, stdDev = 0.5, showDistribution = True):\n",
    "#     researchPromptFXN = lambda question, schema, description: f\"\"\"You are preparing to answer the following question: {question}. You are given access to a json database that contains {description} with the following schema: {schema}. Generate a list of newline-separated natural language queries that will help you answer the question. Questions should be detailed, specific, and useful.\"\"\"\n",
    "#     question = state[\"question\"]\n",
    "#     relevantDocs = {}\n",
    "#     with ThreadPoolExecutor() as executor:\n",
    "#         # Schedule all research tasks\n",
    "#         future_to_desc = {\n",
    "#             executor.submit(research, schema, description, question, researchPromptFXN): description\n",
    "#             for schema, description in dataSourcesAndDescriptions\n",
    "#         }\n",
    "        \n",
    "#         # Process results as they complete\n",
    "#         for future in future_to_desc:\n",
    "#             description = future_to_desc[future]\n",
    "#             print(\"researching \", description)\n",
    "#             for doc in future.result():\n",
    "#                 relevantDocs[doc.id] = doc\n",
    "#             print(\"===========================\")\n",
    "            \n",
    "#     return {\"context\": list(relevantDocs.values())}\n",
    "    \n",
    "\n",
    "# def research(schema, description, question: str, promptFXN, numStdDev = 1, threshold = 0.2):\n",
    "#     def getMostRelevant(raw_results):\n",
    "#         scores = np.array([getScore(cosine_similarity) for _, cosine_similarity in raw_results])\n",
    "#         mean = np.mean(scores)\n",
    "#         std = np.std(scores)\n",
    "#         return [raw_results[i][0] for i in np.where(scores >= mean + (std*numStdDev))[0] if raw_results[i][1] >= threshold]\n",
    "    \n",
    "#     prompt = promptFXN(question, schema, description)\n",
    "#     response = llm.invoke(prompt)\n",
    "#     print(\"PROMPT: \", prompt)\n",
    "#     print(\"QUERIES: \", response.content)\n",
    "#     queries = response.content.split(\"\\n\") # split into specific \"queries\"\n",
    "#     docs = {}\n",
    "#     for query in queries:\n",
    "#         relevant = getMostRelevant(vector_store.similarity_search_with_score(query))\n",
    "#         for doc in relevant:\n",
    "#             docs[doc.id] = doc\n",
    "#     return list(docs.values())\n",
    "\n",
    "# def retrieve(state: State, minRelevance = 0.2, stdDev = 1, showDistribution = True, document = None):\n",
    "#     raw_results = vector_store.similarity_search_with_score(state[\"question\"], k = len(all_splits)) # score is cosine similarity\n",
    "#     print(\"len raw_results\", len(raw_results))\n",
    "#     if len(raw_results) == 1:\n",
    "#         return {\"context\": [raw_results[0][0]]}\n",
    "#     else:\n",
    "#         # I think absolute value of score measures true similarity, will test this hypothesis somehow\n",
    "#         scores = np.array([getScore(cosine_similarity) for _, cosine_similarity in raw_results])\n",
    "#         indicesAboveMinRelevance = np.where(scores > minRelevance)[0]\n",
    "#         #meanScore = np.mean(scores)\n",
    "#         #stdScore = np.std(scores)\n",
    "#         if showDistribution:\n",
    "#             plt.hist(scores)\n",
    "#             plt.show()\n",
    "\n",
    "#         if len(indicesAboveMinRelevance):\n",
    "#             return {\"context\": [raw_results[i][0] for i in indicesAboveMinRelevance]} # return all documents above minRelevance\n",
    "#         else:\n",
    "#             #maxScoreIndex = np.argmax(scores)\n",
    "#             return {\"context\": [raw_results[0][0]]} # return the most relevant documen\n",
    "\n",
    "# def generate(state: State):\n",
    "#     print(\"state['context']\", state[\"context\"])\n",
    "#     docs_content = \"\\n\\n\".join(doc.page_content for doc in state[\"context\"])\n",
    "#     messages = prompt.invoke({\"question\": state[\"question\"], \"context\": docs_content})\n",
    "#     response = llm.invoke(messages)\n",
    "#     return {\"answer\": response.content}\n",
    "\n",
    "# def generate2(state: State):\n",
    "#     prompt = \"\"\"You are an assistant for question-answering tasks. Use the following pieces of retrieved context to answer the question.\"\"\"\n",
    "#     who, how, whereTo = [], [], []\n",
    "#     for doc in state[\"context\"]:\n",
    "#         if \"who\" in doc.metadata[\"source\"]:\n",
    "#             who.append(doc.page_content)\n",
    "#         elif \"how\" in doc.metadata[\"source\"]:\n",
    "#             how.append(doc.page_content)\n",
    "#         elif \"whereTo\" in doc.metadata[\"source\"]:\n",
    "#             whereTo.append(doc.page_content)\n",
    "#     if who:\n",
    "#         who_content = \"\\n\\n\".join(who)\n",
    "#         prompt += f\"{whoDescription}: {who_content}\\n.\"\n",
    "#     if whereTo:\n",
    "#         whereTo_content = \"\\n\\n\".join(whereTo)\n",
    "#         prompt += f\"{whereToDescription}: {whereTo_content}\\n.\"\n",
    "#     if how:\n",
    "#         how_content = \"\\n\\n\".join(how)\n",
    "#         prompt += f\"{howDescription}: {how_content}\\n.\"\n",
    "    \n",
    "#     prompt += f\"Question: {state['question']}\\n.\"\n",
    "#     print(prompt)\n",
    "#     response = llm.invoke(prompt)\n",
    "#     return {\"answer\": response.content}\n"
   ]
  },
  {
   "cell_type": "code",
   "execution_count": 41,
   "metadata": {},
   "outputs": [],
   "source": [
    "# Compile application and test\n",
    "graph_builder = StateGraph(State).add_sequence([research, retrieve, generate])\n",
    "graph_builder.add_edge(START, \"research\")\n",
    "graph_builder.add_edge(\"research\", \"retrieve\")\n",
    "graph_builder.add_edge(\"retrieve\", \"generate\")\n",
    "graph = graph_builder.compile()\n",
    "\n"
   ]
  },
  {
   "cell_type": "code",
   "execution_count": 42,
   "metadata": {},
   "outputs": [
    {
     "name": "stdout",
     "output_type": "stream",
     "text": [
      "3\n",
      "Processing search results for: - What are the specific long-term goals your team is working towards?\n"
     ]
    },
    {
     "data": {
      "image/png": "[encoded data removed]",
      "text/plain": [
       "<Figure size 640x480 with 1 Axes>"
      ]
     },
     "metadata": {},
     "output_type": "display_data"
    },
    {
     "name": "stdout",
     "output_type": "stream",
     "text": [
      "Processing search results for: - What are the core values that guide your team or organization?\n"
     ]
    },
    {
     "data": {
      "image/png": "[encoded data removed]",
      "text/plain": [
       "<Figure size 640x480 with 1 Axes>"
      ]
     },
     "metadata": {},
     "output_type": "display_data"
    },
    {
     "name": "stdout",
     "output_type": "stream",
     "text": [
      "Processing search results for: - What is the current team dynamic or culture like, and what challenges do you face in inspiring your team?\n"
     ]
    },
    {
     "data": {
      "image/png": "[encoded data removed]",
      "text/plain": [
       "<Figure size 640x480 with 1 Axes>"
      ]
     },
     "metadata": {},
     "output_type": "display_data"
    },
    {
     "name": "stdout",
     "output_type": "stream",
     "text": [
      "STATE PRINT {'question': 'How can I inspire my team toward achieving our long-term goals while maintaining alignment with our core values?', 'context': [Document(id='d3c31663-b96d-4ad5-8301-5a8ac2456ef9', metadata={'source': 'C:\\\\Users\\\\garre\\\\OneDrive\\\\Desktop\\\\Projects\\\\personAIble\\\\charlesRiverAssets\\\\who.json', 'seq_num': 1}, page_content=', \"Continuous improvement\", \"Transparency in communication\", \"Integrity in decision-making\", \"Resilience in overcoming challenges\"], \"Personality Traits\": [\"Goal-oriented\", \"Systematic\", \"Resourceful\"'), Document(id='9005eb9f-2985-4773-9472-f2b60cf1e802', metadata={'source': 'C:\\\\Users\\\\garre\\\\OneDrive\\\\Desktop\\\\Projects\\\\personAIble\\\\charlesRiverAssets\\\\who.json', 'seq_num': 1}, page_content='{\"Name\": \"Charles River\", \"DOB\": \"1976\", \"Gender\": \"Male\", \"Core Values\": [\"Precision in execution\", \"Data-backed decisions\", \"Open, honest feedback\", \"Continuous improvement\"')], 'desiredInformation': ['- What are the specific long-term goals your team is working towards?', '- What are the core values that guide your team or organization?', '- What is the current team dynamic or culture like, and what challenges do you face in inspiring your team?']}\n",
      "{'question': 'How can I inspire my team toward achieving our long-term goals while maintaining alignment with our core values?', 'context': [Document(id='d3c31663-b96d-4ad5-8301-5a8ac2456ef9', metadata={'source': 'C:\\\\Users\\\\garre\\\\OneDrive\\\\Desktop\\\\Projects\\\\personAIble\\\\charlesRiverAssets\\\\who.json', 'seq_num': 1}, page_content=', \"Continuous improvement\", \"Transparency in communication\", \"Integrity in decision-making\", \"Resilience in overcoming challenges\"], \"Personality Traits\": [\"Goal-oriented\", \"Systematic\", \"Resourceful\"'), Document(id='9005eb9f-2985-4773-9472-f2b60cf1e802', metadata={'source': 'C:\\\\Users\\\\garre\\\\OneDrive\\\\Desktop\\\\Projects\\\\personAIble\\\\charlesRiverAssets\\\\who.json', 'seq_num': 1}, page_content='{\"Name\": \"Charles River\", \"DOB\": \"1976\", \"Gender\": \"Male\", \"Core Values\": [\"Precision in execution\", \"Data-backed decisions\", \"Open, honest feedback\", \"Continuous improvement\"')], 'answer': 'To inspire your team toward long-term goals while aligning with core values, emphasize continuous improvement and resilience in overcoming challenges. Foster an environment of transparency in communication and encourage open, honest feedback. Align team efforts with core values like precision in execution and data-backed decisions to maintain focus and direction.', 'desiredInformation': ['- What are the specific long-term goals your team is working towards?', '- What are the core values that guide your team or organization?', '- What is the current team dynamic or culture like, and what challenges do you face in inspiring your team?']}\n"
     ]
    }
   ],
   "source": [
    "question = \"How can I inspire my team toward achieving our long-term goals while maintaining alignment with our core values?\"\n",
    "answer = graph.invoke({\"question\": question})\n",
    "print(answer)\n"
   ]
  },
  {
   "cell_type": "code",
   "execution_count": 153,
   "metadata": {},
   "outputs": [
    {
     "name": "stdout",
     "output_type": "stream",
     "text": [
      "researching  contains personal information about the user.\n",
      "PROMPT:  You are preparing to answer the following question: Given your knowledge of where I'd like to go, and the plan we've agreed upon, what should I be doing on a daily basis?. You are given access to a json database that contains contains information about the user's plan to obtain each of their desires from a high level. with the following schema: {\n",
      "subPlan: Array<{\n",
      "    goal: {\n",
      "        description: string,\n",
      "        deadline: string  // ISO date format\n",
      "    },\n",
      "    justification: string,\n",
      "    actionItems: Array<{\n",
      "        what: string,\n",
      "        when: string,    // Schedule description\n",
      "        duration: string  // Time period\n",
      "    }>\n",
      "}>\n",
      "}. Generate a list of newline-separated natural language queries that will help you answer the question. Questions should be detailed, specific, and useful.\n",
      "QUERIES:  1. What are the specific goals outlined in your plan, including their descriptions and deadlines?\n",
      "2. Can you provide the justification for each goal in your plan? How does each goal align with your overall desires?\n",
      "3. What are the action items associated with each goal, and what specific tasks do they entail?\n",
      "4. For each action item, what is the scheduled timeframe for completion, and how long should you spend on each task?\n",
      "5. Are there any recurring daily or weekly action items that you need to prioritize in your routine?\n",
      "6. How do the deadlines for each goal influence your daily planning and task management?\n",
      "7. What resources or support do you need to effectively complete your daily action items?\n",
      "8. Are there any potential obstacles or challenges you anticipate that could affect your daily progress towards your goals?\n",
      "9. How will you track your progress on the action items and goals on a daily basis?\n",
      "10. What adjustments might you need to make to your daily routine to stay aligned with your goals and deadlines?\n",
      "PROMPT:  You are preparing to answer the following question: Given your knowledge of where I'd like to go, and the plan we've agreed upon, what should I be doing on a daily basis?. You are given access to a json database that contains contains information about the user's most important desires. with the following schema: {\n",
      "desires: Array<{\n",
      "    description: string,\n",
      "    strength: number,  // Scale 1-10\n",
      "    timeliness: string // Time period or \"Ongoing\"\n",
      "}>\n",
      "}. Generate a list of newline-separated natural language queries that will help you answer the question. Questions should be detailed, specific, and useful.\n",
      "QUERIES:  1. What are the top three desires from the database that have the highest strength ratings, and how can I incorporate them into my daily routine?\n",
      "2. For each desire listed, what specific actions can I take on a daily basis to work towards achieving them?\n",
      "3. Are there any desires that are categorized as \"Ongoing,\" and what daily habits should I establish to support these ongoing goals?\n",
      "4. How can I prioritize my daily tasks based on the strength and timeliness of my desires?\n",
      "5. What daily checkpoints or reflections can I implement to assess my progress towards fulfilling my desires?\n",
      "6. Can you provide a breakdown of weekly or monthly milestones for each desire to guide my daily activities?\n",
      "7. What potential obstacles might I face in pursuing my desires, and how can I prepare to address them in my daily routine?\n",
      "8. How can I measure my daily progress toward each desire, and what metrics should I track?\n",
      "9. Are there any desires that require more immediate attention, and what specific steps should I take daily to address them?\n",
      "10. How can I integrate self-care practices into my daily routine while pursuing my desires?\n",
      "PROMPT:  You are preparing to answer the following question: Given your knowledge of where I'd like to go, and the plan we've agreed upon, what should I be doing on a daily basis?. You are given access to a json database that contains contains personal information about the user. with the following schema: {\n",
      "    Name: string,\n",
      "    DOB: string,  // ISO date format\n",
      "    Gender: string,\n",
      "    \"Core Values\": string[],\n",
      "    \"Personality Traits\": string[],\n",
      "    \"Hobbies/Interests\": string[]\n",
      "    }. Generate a list of newline-separated natural language queries that will help you answer the question. Questions should be detailed, specific, and useful.\n",
      "QUERIES:  1. What are your current goals or objectives that we have agreed upon for your personal development?\n",
      "2. Can you describe your daily routine, including any existing habits that support your goals?\n",
      "3. What specific skills or areas of knowledge do you want to develop further in alignment with your goals?\n",
      "4. How much time can you realistically dedicate each day to activities related to your goals?\n",
      "5. Are there any particular challenges or obstacles you anticipate in your daily routine that might hinder your progress?\n",
      "6. What motivates you the most to stay committed to your daily tasks and routines?\n",
      "7. How do your core values influence your daily decision-making and actions towards your goals?\n",
      "8. What hobbies or interests do you currently engage in that could be aligned with your daily tasks or goals?\n",
      "9. How do your personality traits affect your approach to daily tasks and responsibilities?\n",
      "10. Are there any resources or tools you would like to incorporate into your daily routine to enhance your productivity or focus?\n",
      "11. How do you prefer to measure your progress on a daily basis?\n",
      "12. What type of support or accountability do you think would be beneficial for you on a daily basis?\n",
      "13. Are there specific times of the day when you feel most productive or focused?\n",
      "14. What small, actionable steps can you take each day to move closer to your long-term objectives?\n",
      "15. Would you like to integrate any mindfulness or self-care practices into your daily routine to maintain balance while pursuing your goals?\n",
      "===========================\n",
      "researching  contains information about the user's most important desires.\n",
      "===========================\n",
      "researching  contains information about the user's plan to obtain each of their desires from a high level.\n",
      "===========================\n",
      "You are an assistant for question-answering tasks. Use the following pieces of retrieved context to answer the question.contains personal information about the user.: , \"Personality Traits\": [\"Ambitious\", \"Hardworking\", \"Optimistic\", \"Goal-oriented\", \"Socially conscious\"], \"Hobbies/Interests\": [\"Reading news\", \"Playing games occasionally\"\n",
      ".contains information about the user's most important desires.: {\"desires\": [{\"description\": \"Move out of parents' house\", \"strength\": 9, \"timeliness\": \"6 months\"},\n",
      "\n",
      "{\"description\": \"Build healthy habits for personal growth and stability\", \"strength\": 8, \"timeliness\": \"6 months\"},\n",
      ".contains information about the user's plan to obtain each of their desires from a high level.: {\"description\": \"Build healthy habits for personal growth and stability\", \"deadline\": \"2025-06-01\"\n",
      "\n",
      "{\"what\": \"Develop a morning routine with exercise and mindfulness\", \"when\": \"Daily, 7:00 AM\", \"duration\": \"1 hour\"},\n",
      "\n",
      "{\"what\": \"Attend 2 networking events monthly\", \"when\": \"Second and fourth Wednesdays of the month\", \"duration\": \"3 hours per event\"}]}, {\"goal\":\n",
      "\n",
      "{\"what\": \"Apply to at least 5 jobs weekly\", \"when\": \"Mondays and Thursdays\", \"duration\": \"3 hours each day\"},\n",
      "\n",
      "}, \"justification\": \"Jimmy values connections with others and wants to build meaningful relationships.\", \"actionItem\": [\n",
      "\n",
      "{\"subPlan\": [{\"goal\":\n",
      "\n",
      "{\"what\": \"Complete and refine resume and LinkedIn profile\", \"when\": \"2025-01-07\", \"duration\": \"2 hours\"},\n",
      "\n",
      "{\"what\": \"Maintain a sleep schedule of 8 hours nightly\", \"when\": \"Daily, 10:00 PM to 6:00 AM\", \"duration\": \"8 hours\"}]}, {\"goal\":\n",
      ".Question: Given your knowledge of where I'd like to go, and the plan we've agreed upon, what should I be doing on a daily basis?\n",
      ".\n"
     ]
    },
    {
     "data": {
      "text/plain": [
       "{'question': \"Given your knowledge of where I'd like to go, and the plan we've agreed upon, what should I be doing on a daily basis?\",\n",
       " 'context': [Document(id='07d55754-ae3e-4f5a-888e-b1850c3db53f', metadata={'source': 'C:\\\\Users\\\\garre\\\\OneDrive\\\\Desktop\\\\Projects\\\\personAIble\\\\userModel\\\\how.json', 'seq_num': 1}, page_content='{\"description\": \"Build healthy habits for personal growth and stability\", \"deadline\": \"2025-06-01\"'),\n",
       "  Document(id='6ad69418-b1d8-4fcb-85f5-83afa92df118', metadata={'source': 'C:\\\\Users\\\\garre\\\\OneDrive\\\\Desktop\\\\Projects\\\\personAIble\\\\userModel\\\\how.json', 'seq_num': 1}, page_content='{\"what\": \"Develop a morning routine with exercise and mindfulness\", \"when\": \"Daily, 7:00 AM\", \"duration\": \"1 hour\"},'),\n",
       "  Document(id='bad485bb-f0bb-416c-a5e0-d24b509283d2', metadata={'source': 'C:\\\\Users\\\\garre\\\\OneDrive\\\\Desktop\\\\Projects\\\\personAIble\\\\userModel\\\\how.json', 'seq_num': 1}, page_content='{\"what\": \"Attend 2 networking events monthly\", \"when\": \"Second and fourth Wednesdays of the month\", \"duration\": \"3 hours per event\"}]}, {\"goal\":'),\n",
       "  Document(id='d4478e8c-2239-425a-972e-d082fbb942e5', metadata={'source': 'C:\\\\Users\\\\garre\\\\OneDrive\\\\Desktop\\\\Projects\\\\personAIble\\\\userModel\\\\how.json', 'seq_num': 1}, page_content='{\"what\": \"Apply to at least 5 jobs weekly\", \"when\": \"Mondays and Thursdays\", \"duration\": \"3 hours each day\"},'),\n",
       "  Document(id='c3c90632-b552-45e1-9483-40654742c58d', metadata={'source': 'C:\\\\Users\\\\garre\\\\OneDrive\\\\Desktop\\\\Projects\\\\personAIble\\\\userModel\\\\how.json', 'seq_num': 1}, page_content='}, \"justification\": \"Jimmy values connections with others and wants to build meaningful relationships.\", \"actionItem\": ['),\n",
       "  Document(id='a357a737-cdb2-49b5-90e1-3216425905dc', metadata={'source': 'C:\\\\Users\\\\garre\\\\OneDrive\\\\Desktop\\\\Projects\\\\personAIble\\\\userModel\\\\who.json', 'seq_num': 1}, page_content=', \"Personality Traits\": [\"Ambitious\", \"Hardworking\", \"Optimistic\", \"Goal-oriented\", \"Socially conscious\"], \"Hobbies/Interests\": [\"Reading news\", \"Playing games occasionally\"'),\n",
       "  Document(id='7b14a894-0acc-4ecd-bd84-d4a9365cd08d', metadata={'source': 'C:\\\\Users\\\\garre\\\\OneDrive\\\\Desktop\\\\Projects\\\\personAIble\\\\userModel\\\\whereTo.json', 'seq_num': 1}, page_content='{\"desires\": [{\"description\": \"Move out of parents\\' house\", \"strength\": 9, \"timeliness\": \"6 months\"},'),\n",
       "  Document(id='c9c0f5fe-19f8-49f9-a789-0029b8e5ca48', metadata={'source': 'C:\\\\Users\\\\garre\\\\OneDrive\\\\Desktop\\\\Projects\\\\personAIble\\\\userModel\\\\whereTo.json', 'seq_num': 1}, page_content='{\"description\": \"Build healthy habits for personal growth and stability\", \"strength\": 8, \"timeliness\": \"6 months\"},'),\n",
       "  Document(id='0e37fd1c-3669-4f6a-bb1e-bbcaa1346f37', metadata={'source': 'C:\\\\Users\\\\garre\\\\OneDrive\\\\Desktop\\\\Projects\\\\personAIble\\\\userModel\\\\how.json', 'seq_num': 1}, page_content='{\"subPlan\": [{\"goal\":'),\n",
       "  Document(id='671566cd-60ff-45f5-8f73-999f6f24d7e3', metadata={'source': 'C:\\\\Users\\\\garre\\\\OneDrive\\\\Desktop\\\\Projects\\\\personAIble\\\\userModel\\\\how.json', 'seq_num': 1}, page_content='{\"what\": \"Complete and refine resume and LinkedIn profile\", \"when\": \"2025-01-07\", \"duration\": \"2 hours\"},'),\n",
       "  Document(id='364dd96d-4fc1-43f4-8b6f-05d7aef2542f', metadata={'source': 'C:\\\\Users\\\\garre\\\\OneDrive\\\\Desktop\\\\Projects\\\\personAIble\\\\userModel\\\\how.json', 'seq_num': 1}, page_content='{\"what\": \"Maintain a sleep schedule of 8 hours nightly\", \"when\": \"Daily, 10:00 PM to 6:00 AM\", \"duration\": \"8 hours\"}]}, {\"goal\":')],\n",
       " 'answer': \"Based on your desires and the plans you've outlined, here are some daily actions you should focus on:\\n\\n1. **Morning Routine**: Develop a morning routine that includes exercise and mindfulness. Aim to do this every day at 7:00 AM for about 1 hour. This will help you build healthy habits for personal growth.\\n\\n2. **Sleep Schedule**: Maintain a consistent sleep schedule by going to bed at 10:00 PM and waking up at 6:00 AM to ensure you get 8 hours of restful sleep.\\n\\n3. **Job Applications**: While you have designated days (Mondays and Thursdays) for applying to jobs, it's also beneficial to spend some time each day preparing for this task. This could include researching companies, tailoring your resume, or practicing for interviews.\\n\\n4. **Networking Preparation**: Since you plan to attend networking events twice a month, consider dedicating some time each day to research potential contacts or companies you might want to connect with.\\n\\n5. **Hobbies and Interests**: Engage in your hobbies, such as reading news articles or playing games, to relax and recharge. This balance will help you maintain your motivation and optimism.\\n\\nBy integrating these daily actions into your routine, you'll be on track to achieve your goals of moving out and building healthy habits within the next six months.\"}"
      ]
     },
     "execution_count": 153,
     "metadata": {},
     "output_type": "execute_result"
    }
   ],
   "source": [
    "graph2.invoke({\"question\": question})"
   ]
  },
  {
   "cell_type": "code",
   "execution_count": 154,
   "metadata": {},
   "outputs": [
    {
     "name": "stdout",
     "output_type": "stream",
     "text": [
      "len raw_results 32\n"
     ]
    },
    {
     "data": {
      "image/png": "[encoded data removed]",
      "text/plain": [
       "<Figure size 640x480 with 1 Axes>"
      ]
     },
     "metadata": {},
     "output_type": "display_data"
    },
    {
     "name": "stdout",
     "output_type": "stream",
     "text": [
      "state['context'] [Document(id='a1157d38-7591-4ce0-8557-d9d16b52230d', metadata={'source': 'C:\\\\Users\\\\garre\\\\OneDrive\\\\Desktop\\\\Projects\\\\personAIble\\\\userModel\\\\who.json', 'seq_num': 1}, page_content='}')]\n"
     ]
    },
    {
     "data": {
      "text/plain": [
       "{'question': 'this has nothing to do with the project, curiousity killed the cat',\n",
       " 'context': [Document(id='a1157d38-7591-4ce0-8557-d9d16b52230d', metadata={'source': 'C:\\\\Users\\\\garre\\\\OneDrive\\\\Desktop\\\\Projects\\\\personAIble\\\\userModel\\\\who.json', 'seq_num': 1}, page_content='}')],\n",
       " 'answer': \"I don't know.\"}"
      ]
     },
     "execution_count": 154,
     "metadata": {},
     "output_type": "execute_result"
    }
   ],
   "source": [
    "graph.invoke({\"question\": \"this has nothing to do with the project, curiousity killed the cat\"})"
   ]
  },
  {
   "cell_type": "code",
   "execution_count": null,
   "metadata": {},
   "outputs": [],
   "source": [
    "graph.invoke({\"question\": \"this has nothing to do with the project, curiousity killed the cat\"})"
   ]
  },
  {
   "cell_type": "code",
   "execution_count": 104,
   "metadata": {},
   "outputs": [
    {
     "name": "stdout",
     "output_type": "stream",
     "text": [
      "len raw_results 32\n"
     ]
    },
    {
     "data": {
      "image/png": "[encoded data removed]",
      "text/plain": [
       "<Figure size 640x480 with 1 Axes>"
      ]
     },
     "metadata": {},
     "output_type": "display_data"
    },
    {
     "name": "stdout",
     "output_type": "stream",
     "text": [
      "state['context'] [Document(id='4515ff90-ecdd-4696-ab93-6619f5f3a67e', metadata={'source': 'C:\\\\Users\\\\garre\\\\OneDrive\\\\Desktop\\\\Projects\\\\personAIble\\\\userModel\\\\how.json', 'seq_num': 1}, page_content='{\"what\": \"Attend social mixers or community events monthly\", \"when\": \"Last Friday of each month\", \"duration\": \"3 hours\"},')]\n"
     ]
    },
    {
     "data": {
      "text/plain": [
       "{'question': 'A donkey and a parrot walked into a bar. What happens next?',\n",
       " 'context': [Document(id='4515ff90-ecdd-4696-ab93-6619f5f3a67e', metadata={'source': 'C:\\\\Users\\\\garre\\\\OneDrive\\\\Desktop\\\\Projects\\\\personAIble\\\\userModel\\\\how.json', 'seq_num': 1}, page_content='{\"what\": \"Attend social mixers or community events monthly\", \"when\": \"Last Friday of each month\", \"duration\": \"3 hours\"},')],\n",
       " 'answer': \"I don't know.\"}"
      ]
     },
     "execution_count": 104,
     "metadata": {},
     "output_type": "execute_result"
    }
   ],
   "source": [
    "graph.invoke({\"question\": \"A donkey and a parrot walked into a bar. What happens next?\"})"
   ]
  },
  {
   "cell_type": "code",
   "execution_count": 105,
   "metadata": {},
   "outputs": [
    {
     "name": "stdout",
     "output_type": "stream",
     "text": [
      "len raw_results 32\n"
     ]
    },
    {
     "data": {
      "image/png": "[encoded data removed]",
      "text/plain": [
       "<Figure size 640x480 with 1 Axes>"
      ]
     },
     "metadata": {},
     "output_type": "display_data"
    },
    {
     "name": "stdout",
     "output_type": "stream",
     "text": [
      "state['context'] [Document(id='acc427a8-28cc-40ec-85e2-299b748b906a', metadata={'source': 'C:\\\\Users\\\\garre\\\\OneDrive\\\\Desktop\\\\Projects\\\\personAIble\\\\userModel\\\\how.json', 'seq_num': 1}, page_content='{\"description\": \"Secure a job in Software Engineering or Machine Learning\", \"deadline\": \"2025-03-31\"'), Document(id='385b64e2-ac81-4b88-8516-c9bf5a845324', metadata={'source': 'C:\\\\Users\\\\garre\\\\OneDrive\\\\Desktop\\\\Projects\\\\personAIble\\\\userModel\\\\whereTo.json', 'seq_num': 1}, page_content='{\"description\": \"Secure a job in Software Engineering or Machine Learning\", \"strength\": 10, \"timeliness\": \"3 months\"},')]\n"
     ]
    },
    {
     "data": {
      "text/plain": [
       "{'question': 'I am very interested in Arize AI. Tell me more about what they do.',\n",
       " 'context': [Document(id='acc427a8-28cc-40ec-85e2-299b748b906a', metadata={'source': 'C:\\\\Users\\\\garre\\\\OneDrive\\\\Desktop\\\\Projects\\\\personAIble\\\\userModel\\\\how.json', 'seq_num': 1}, page_content='{\"description\": \"Secure a job in Software Engineering or Machine Learning\", \"deadline\": \"2025-03-31\"'),\n",
       "  Document(id='385b64e2-ac81-4b88-8516-c9bf5a845324', metadata={'source': 'C:\\\\Users\\\\garre\\\\OneDrive\\\\Desktop\\\\Projects\\\\personAIble\\\\userModel\\\\whereTo.json', 'seq_num': 1}, page_content='{\"description\": \"Secure a job in Software Engineering or Machine Learning\", \"strength\": 10, \"timeliness\": \"3 months\"},')],\n",
       " 'answer': \"I don't know.\"}"
      ]
     },
     "execution_count": 105,
     "metadata": {},
     "output_type": "execute_result"
    }
   ],
   "source": [
    "graph.invoke({\"question\": \"I am very interested in Arize AI. Tell me more about what they do.\"})"
   ]
  },
  {
   "cell_type": "code",
   "execution_count": 106,
   "metadata": {},
   "outputs": [
    {
     "name": "stdout",
     "output_type": "stream",
     "text": [
      "len raw_results 32\n"
     ]
    },
    {
     "data": {
      "image/png": "[encoded data removed]",
      "text/plain": [
       "<Figure size 640x480 with 1 Axes>"
      ]
     },
     "metadata": {},
     "output_type": "display_data"
    },
    {
     "name": "stdout",
     "output_type": "stream",
     "text": [
      "state['context'] [Document(id='4515ff90-ecdd-4696-ab93-6619f5f3a67e', metadata={'source': 'C:\\\\Users\\\\garre\\\\OneDrive\\\\Desktop\\\\Projects\\\\personAIble\\\\userModel\\\\how.json', 'seq_num': 1}, page_content='{\"what\": \"Attend social mixers or community events monthly\", \"when\": \"Last Friday of each month\", \"duration\": \"3 hours\"},')]\n"
     ]
    },
    {
     "data": {
      "text/plain": [
       "{'question': 'my milkshake brings all the boys to the yard. What is a milkshake?',\n",
       " 'context': [Document(id='4515ff90-ecdd-4696-ab93-6619f5f3a67e', metadata={'source': 'C:\\\\Users\\\\garre\\\\OneDrive\\\\Desktop\\\\Projects\\\\personAIble\\\\userModel\\\\how.json', 'seq_num': 1}, page_content='{\"what\": \"Attend social mixers or community events monthly\", \"when\": \"Last Friday of each month\", \"duration\": \"3 hours\"},')],\n",
       " 'answer': \"I don't know.\"}"
      ]
     },
     "execution_count": 106,
     "metadata": {},
     "output_type": "execute_result"
    }
   ],
   "source": [
    "graph.invoke({\"question\": \"my milkshake brings all the boys to the yard. What is a milkshake?\"})"
   ]
  },
  {
   "cell_type": "code",
   "execution_count": null,
   "metadata": {},
   "outputs": [],
   "source": []
  }
 ],
 "metadata": {
  "kernelspec": {
   "display_name": "Python 3",
   "language": "python",
   "name": "python3"
  },
  "language_info": {
   "codemirror_mode": {
    "name": "ipython",
    "version": 3
   },
   "file_extension": ".py",
   "mimetype": "text/x-python",
   "name": "python",
   "nbconvert_exporter": "python",
   "pygments_lexer": "ipython3",
   "version": "3.12.8"
  }
 },
 "nbformat": 4,
 "nbformat_minor": 2
}
