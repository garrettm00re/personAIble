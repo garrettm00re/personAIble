{
 "cells": [
  {
   "cell_type": "code",
   "execution_count": null,
   "metadata": {},
   "outputs": [
    {
     "name": "stdout",
     "output_type": "stream",
     "text": [
      "OpenTelemetry Tracing Details\n",
      "|  Phoenix Project: personAIble\n",
      "|  Span Processor: SimpleSpanProcessor\n",
      "|  Collector Endpoint: https://app.phoenix.arize.com/v1/traces\n",
      "|  Transport: HTTP + protobuf\n",
      "|  Transport Headers: {'api_key': '****'}\n",
      "|  \n",
      "|  Using a default SpanProcessor. `add_span_processor` will overwrite this default.\n",
      "|  \n",
      "|  `register` has set this TracerProvider as the global OpenTelemetry default.\n",
      "|  To disable this behavior, call `register` with `set_global_tracer_provider=False`.\n",
      "\n",
      "INSTRUMENTED\n"
     ]
    }
   ],
   "source": [
    "from langchain_core.documents import Document\n",
    "from database import Database\n"
   ]
  },
  {
   "cell_type": "code",
   "execution_count": 5,
   "metadata": {},
   "outputs": [],
   "source": [
    "db = Database()\n",
    "google_id = '117296122312982831056'"
   ]
  },
  {
   "cell_type": "code",
   "execution_count": 31,
   "metadata": {},
   "outputs": [],
   "source": [
    "def get_all_followup_qa_summaries(google_id, database) -> list[dict[str, str]]:\n",
    "    # get all summaries from the QA table where google_id matches\n",
    "    qa_summaries = database.db_client.table('QA').select('summary').eq('google_id', google_id).execute()\n",
    "    return qa_summaries.data\n",
    "\n",
    "def followupLoader(google_id, database):\n",
    "    # get all rows from the QA table where google_id matches\n",
    "    qa_summaries = get_all_followup_qa_summaries(google_id, database)\n",
    "    for summary in qa_summaries:\n",
    "        yield Document(page_content=summary['summary'], metadata={\"source\": \"followup\"})\n",
    "\n",
    "def get_all_onboarding_data(google_id, database):\n",
    "    onboarding_cols = database.db_client.table('onboarding').select('*').eq('google_id', google_id).execute()\n",
    "    return onboarding_cols.data[0]\n",
    "\n",
    "def onboardingLoader(google_id, database):\n",
    "    skipCols = set(['google_id', 'created_at', 'id'])\n",
    "    onboarding_cols = get_all_onboarding_data(google_id, database)\n",
    "    for question, answer in onboarding_cols.items():\n",
    "        if question not in skipCols:\n",
    "                yield Document(page_content=f\"{question} : {answer}\", metadata={\"source\": \"onboarding\"})"
   ]
  },
  {
   "cell_type": "code",
   "execution_count": null,
   "metadata": {},
   "outputs": [],
   "source": [
    "def getUserDocuments(google_id):\n",
    "    # load all columns from the users row in the onboarding table\n",
    "    onboardingLoader = onboardingLoader(google_id, db)\n",
    "    followupLoader = followupLoader(google_id, db)\n",
    "    \n",
    "    # for each QA for google_id, load the summaries\n",
    "\n",
    "    # Combine documents\n",
    "    documents = []\n",
    "    for loader in [onboardingLoader, followupLoader]:\n",
    "        documents.extend(loader.load())\n",
    "    \n",
    "    # Create and initialize model\n",
    "    model = PersonAIble(k = len(documents))\n",
    "    model.load_data(documents)\n",
    "    \n",
    "    return model"
   ]
  },
  {
   "cell_type": "code",
   "execution_count": null,
   "metadata": {},
   "outputs": [],
   "source": []
  }
 ],
 "metadata": {
  "kernelspec": {
   "display_name": "personAIble",
   "language": "python",
   "name": "python3"
  },
  "language_info": {
   "codemirror_mode": {
    "name": "ipython",
    "version": 3
   },
   "file_extension": ".py",
   "mimetype": "text/x-python",
   "name": "python",
   "nbconvert_exporter": "python",
   "pygments_lexer": "ipython3",
   "version": "3.12.8"
  }
 },
 "nbformat": 4,
 "nbformat_minor": 2
}
