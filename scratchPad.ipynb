{
 "cells": [
  {
   "cell_type": "code",
   "execution_count": 2,
   "metadata": {},
   "outputs": [
    {
     "name": "stdout",
     "output_type": "stream",
     "text": [
      "Hi! I'm personAIble, I'm here to help. I have a few questions to ask you to get to know you better. What's your full name?\n",
      "Nice to meet you, {name}! What brings you here?\n",
      "What are you passionate about?\n",
      "What values are most important to you?\n",
      "What are your biggest goals for the future?\n",
      "How can I help you achieve them?\n",
      "\n"
     ]
    }
   ],
   "source": [
    "with open('static/onboardingQuestions.txt', 'r') as file:\n",
    "    print(file.read())\n"
   ]
  },
  {
   "cell_type": "code",
   "execution_count": 3,
   "metadata": {},
   "outputs": [],
   "source": [
    "from app import Database"
   ]
  },
  {
   "cell_type": "code",
   "execution_count": 9,
   "metadata": {},
   "outputs": [],
   "source": [
    "def create_name_column(db, name):\n",
    "    db.db_client.table('onboarding').select('*').execute().execute(f\"\"\"\n",
    "        ALTER TABLE onboarding\n",
    "        ADD COLUMN {name} TEXT;\n",
    "    \"\"\")"
   ]
  },
  {
   "cell_type": "code",
   "execution_count": 10,
   "metadata": {},
   "outputs": [],
   "source": [
    "db = Database()"
   ]
  },
  {
   "cell_type": "code",
   "execution_count": 11,
   "metadata": {},
   "outputs": [
    {
     "ename": "AttributeError",
     "evalue": "'SyncClient' object has no attribute 'execute'",
     "output_type": "error",
     "traceback": [
      "\u001b[1;31m---------------------------------------------------------------------------\u001b[0m",
      "\u001b[1;31mAttributeError\u001b[0m                            Traceback (most recent call last)",
      "Cell \u001b[1;32mIn[11], line 1\u001b[0m\n\u001b[1;32m----> 1\u001b[0m create_name_column(db, \u001b[38;5;124m\"\u001b[39m\u001b[38;5;124mTESTIN123\u001b[39m\u001b[38;5;124m\"\u001b[39m)\n",
      "Cell \u001b[1;32mIn[9], line 2\u001b[0m, in \u001b[0;36mcreate_name_column\u001b[1;34m(db, name)\u001b[0m\n\u001b[0;32m      1\u001b[0m \u001b[38;5;28;01mdef\u001b[39;00m \u001b[38;5;21mcreate_name_column\u001b[39m(db, name):\n\u001b[1;32m----> 2\u001b[0m     db\u001b[38;5;241m.\u001b[39mdb_client\u001b[38;5;241m.\u001b[39mexecute(\u001b[38;5;124mf\u001b[39m\u001b[38;5;124m\"\"\"\u001b[39m\n\u001b[0;32m      3\u001b[0m \u001b[38;5;124m        ALTER TABLE onboarding\u001b[39m\n\u001b[0;32m      4\u001b[0m \u001b[38;5;124m        ADD COLUMN \u001b[39m\u001b[38;5;132;01m{\u001b[39;00mname\u001b[38;5;132;01m}\u001b[39;00m\u001b[38;5;124m TEXT;  -- This would create \u001b[39m\u001b[38;5;124m'\u001b[39m\u001b[38;5;124mfull_name\u001b[39m\u001b[38;5;124m'\u001b[39m\u001b[38;5;124m instead of \u001b[39m\u001b[38;5;124m'\u001b[39m\u001b[38;5;124mname\u001b[39m\u001b[38;5;124m'\u001b[39m\n\u001b[0;32m      5\u001b[0m \u001b[38;5;124m    \u001b[39m\u001b[38;5;124m\"\"\"\u001b[39m)\n",
      "\u001b[1;31mAttributeError\u001b[0m: 'SyncClient' object has no attribute 'execute'"
     ]
    }
   ],
   "source": [
    "create_name_column(db, \"TESTIN123\")"
   ]
  },
  {
   "cell_type": "code",
   "execution_count": null,
   "metadata": {},
   "outputs": [],
   "source": []
  }
 ],
 "metadata": {
  "kernelspec": {
   "display_name": "personAIble",
   "language": "python",
   "name": "python3"
  },
  "language_info": {
   "codemirror_mode": {
    "name": "ipython",
    "version": 3
   },
   "file_extension": ".py",
   "mimetype": "text/x-python",
   "name": "python",
   "nbconvert_exporter": "python",
   "pygments_lexer": "ipython3",
   "version": "3.12.8"
  }
 },
 "nbformat": 4,
 "nbformat_minor": 2
}
