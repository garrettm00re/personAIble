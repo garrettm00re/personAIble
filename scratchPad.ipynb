{
 "cells": [
  {
   "cell_type": "code",
   "execution_count": 19,
   "metadata": {},
   "outputs": [
    {
     "name": "stdout",
     "output_type": "stream",
     "text": [
      "hi!_i'm_personaible,_i'm_here_to_help._i_have_a_few_questions_to_ask_you_to_get_to_know_you_better._what's_your_full_name?\n",
      "\n",
      "nice_to_meet_you,_{name}!_what_brings_you_here?\n",
      "\n",
      "what_are_you_passionate_about?\n",
      "\n",
      "what_values_are_most_important_to_you?\n",
      "\n",
      "what_are_your_biggest_goals_for_the_future?\n",
      "\n",
      "how_can_i_help_you_achieve_them?\n",
      "\n"
     ]
    }
   ],
   "source": [
    "with open('static/onboardingQuestions.txt', 'r') as file:\n",
    "    for line in file:\n",
    "        print(line.lower().replace(\" \", \"_\"))\n"
   ]
  },
  {
   "cell_type": "code",
   "execution_count": 20,
   "metadata": {},
   "outputs": [],
   "source": [
    "from app import Database"
   ]
  },
  {
   "cell_type": "code",
   "execution_count": 15,
   "metadata": {},
   "outputs": [],
   "source": [
    "def create_name_column(db, name):\n",
    "    db.db_client.table('onboarding').execute(f\"\"\"\n",
    "        ALTER TABLE onboarding\n",
    "        ADD COLUMN {name} TEXT;\n",
    "    \"\"\")"
   ]
  },
  {
   "cell_type": "code",
   "execution_count": 22,
   "metadata": {},
   "outputs": [],
   "source": [
    "def print_columns(db):\n",
    "    # Using Supabase's rpc to execute raw SQL\n",
    "    result = db.db_client.rpc(\n",
    "        'get_columns',\n",
    "        {\n",
    "            'table_name': 'onboarding'\n",
    "        }\n",
    "    ).execute()\n",
    "    print(\"Column names:\", result.data)"
   ]
  },
  {
   "cell_type": "code",
   "execution_count": 23,
   "metadata": {},
   "outputs": [],
   "source": [
    "db = Database()"
   ]
  },
  {
   "cell_type": "code",
   "execution_count": 24,
   "metadata": {},
   "outputs": [
    {
     "ename": "APIError",
     "evalue": "{'code': 'PGRST202', 'details': 'Searched for the function public.get_columns with parameter table_name or with a single unnamed json/jsonb parameter, but no matches were found in the schema cache.', 'hint': None, 'message': 'Could not find the function public.get_columns(table_name) in the schema cache'}",
     "output_type": "error",
     "traceback": [
      "\u001b[1;31m---------------------------------------------------------------------------\u001b[0m",
      "\u001b[1;31mAPIError\u001b[0m                                  Traceback (most recent call last)",
      "Cell \u001b[1;32mIn[24], line 1\u001b[0m\n\u001b[1;32m----> 1\u001b[0m print_columns(db)\n",
      "Cell \u001b[1;32mIn[22], line 8\u001b[0m, in \u001b[0;36mprint_columns\u001b[1;34m(db)\u001b[0m\n\u001b[0;32m      1\u001b[0m \u001b[38;5;28;01mdef\u001b[39;00m \u001b[38;5;21mprint_columns\u001b[39m(db):\n\u001b[0;32m      2\u001b[0m     \u001b[38;5;66;03m# Using Supabase's rpc to execute raw SQL\u001b[39;00m\n\u001b[0;32m      3\u001b[0m     result \u001b[38;5;241m=\u001b[39m db\u001b[38;5;241m.\u001b[39mdb_client\u001b[38;5;241m.\u001b[39mrpc(\n\u001b[0;32m      4\u001b[0m         \u001b[38;5;124m'\u001b[39m\u001b[38;5;124mget_columns\u001b[39m\u001b[38;5;124m'\u001b[39m,\n\u001b[0;32m      5\u001b[0m         {\n\u001b[0;32m      6\u001b[0m             \u001b[38;5;124m'\u001b[39m\u001b[38;5;124mtable_name\u001b[39m\u001b[38;5;124m'\u001b[39m: \u001b[38;5;124m'\u001b[39m\u001b[38;5;124monboarding\u001b[39m\u001b[38;5;124m'\u001b[39m\n\u001b[0;32m      7\u001b[0m         }\n\u001b[1;32m----> 8\u001b[0m     )\u001b[38;5;241m.\u001b[39mexecute()\n\u001b[0;32m      9\u001b[0m     \u001b[38;5;28mprint\u001b[39m(\u001b[38;5;124m\"\u001b[39m\u001b[38;5;124mColumn names:\u001b[39m\u001b[38;5;124m\"\u001b[39m, result\u001b[38;5;241m.\u001b[39mdata)\n",
      "File \u001b[1;32mc:\\Users\\garre\\anaconda3\\envs\\personAIble\\Lib\\site-packages\\postgrest\\_sync\\request_builder.py:127\u001b[0m, in \u001b[0;36mSyncSingleRequestBuilder.execute\u001b[1;34m(self)\u001b[0m\n\u001b[0;32m    125\u001b[0m         \u001b[38;5;28;01mreturn\u001b[39;00m SingleAPIResponse[_ReturnT]\u001b[38;5;241m.\u001b[39mfrom_http_request_response(r)\n\u001b[0;32m    126\u001b[0m     \u001b[38;5;28;01melse\u001b[39;00m:\n\u001b[1;32m--> 127\u001b[0m         \u001b[38;5;28;01mraise\u001b[39;00m APIError(r\u001b[38;5;241m.\u001b[39mjson())\n\u001b[0;32m    128\u001b[0m \u001b[38;5;28;01mexcept\u001b[39;00m ValidationError \u001b[38;5;28;01mas\u001b[39;00m e:\n\u001b[0;32m    129\u001b[0m     \u001b[38;5;28;01mraise\u001b[39;00m APIError(r\u001b[38;5;241m.\u001b[39mjson()) \u001b[38;5;28;01mfrom\u001b[39;00m \u001b[38;5;21;01me\u001b[39;00m\n",
      "\u001b[1;31mAPIError\u001b[0m: {'code': 'PGRST202', 'details': 'Searched for the function public.get_columns with parameter table_name or with a single unnamed json/jsonb parameter, but no matches were found in the schema cache.', 'hint': None, 'message': 'Could not find the function public.get_columns(table_name) in the schema cache'}"
     ]
    }
   ],
   "source": [
    "print_columns(db)"
   ]
  },
  {
   "cell_type": "code",
   "execution_count": 17,
   "metadata": {},
   "outputs": [
    {
     "ename": "AttributeError",
     "evalue": "'SyncRequestBuilder' object has no attribute 'execute'",
     "output_type": "error",
     "traceback": [
      "\u001b[1;31m---------------------------------------------------------------------------\u001b[0m",
      "\u001b[1;31mAttributeError\u001b[0m                            Traceback (most recent call last)",
      "Cell \u001b[1;32mIn[17], line 1\u001b[0m\n\u001b[1;32m----> 1\u001b[0m create_name_column(db, \u001b[38;5;124m\"\u001b[39m\u001b[38;5;124mTESTIN123\u001b[39m\u001b[38;5;124m\"\u001b[39m)\n",
      "Cell \u001b[1;32mIn[15], line 2\u001b[0m, in \u001b[0;36mcreate_name_column\u001b[1;34m(db, name)\u001b[0m\n\u001b[0;32m      1\u001b[0m \u001b[38;5;28;01mdef\u001b[39;00m \u001b[38;5;21mcreate_name_column\u001b[39m(db, name):\n\u001b[1;32m----> 2\u001b[0m     db\u001b[38;5;241m.\u001b[39mdb_client\u001b[38;5;241m.\u001b[39mtable(\u001b[38;5;124m'\u001b[39m\u001b[38;5;124monboarding\u001b[39m\u001b[38;5;124m'\u001b[39m)\u001b[38;5;241m.\u001b[39mexecute(\u001b[38;5;124mf\u001b[39m\u001b[38;5;124m\"\"\"\u001b[39m\n\u001b[0;32m      3\u001b[0m \u001b[38;5;124m        ALTER TABLE onboarding\u001b[39m\n\u001b[0;32m      4\u001b[0m \u001b[38;5;124m        ADD COLUMN \u001b[39m\u001b[38;5;132;01m{\u001b[39;00mname\u001b[38;5;132;01m}\u001b[39;00m\u001b[38;5;124m TEXT;\u001b[39m\n\u001b[0;32m      5\u001b[0m \u001b[38;5;124m    \u001b[39m\u001b[38;5;124m\"\"\"\u001b[39m)\n",
      "\u001b[1;31mAttributeError\u001b[0m: 'SyncRequestBuilder' object has no attribute 'execute'"
     ]
    }
   ],
   "source": [
    "create_name_column(db, \"TESTIN123\")"
   ]
  },
  {
   "cell_type": "code",
   "execution_count": null,
   "metadata": {},
   "outputs": [],
   "source": []
  }
 ],
 "metadata": {
  "kernelspec": {
   "display_name": "personAIble",
   "language": "python",
   "name": "python3"
  },
  "language_info": {
   "codemirror_mode": {
    "name": "ipython",
    "version": 3
   },
   "file_extension": ".py",
   "mimetype": "text/x-python",
   "name": "python",
   "nbconvert_exporter": "python",
   "pygments_lexer": "ipython3",
   "version": "3.12.8"
  }
 },
 "nbformat": 4,
 "nbformat_minor": 2
}
