{
 "cells": [
  {
   "cell_type": "code",
   "execution_count": 24,
   "metadata": {},
   "outputs": [
    {
     "data": {
      "text/plain": [
       "True"
      ]
     },
     "execution_count": 24,
     "metadata": {},
     "output_type": "execute_result"
    }
   ],
   "source": [
    "from langchain_openai import ChatOpenAI\n",
    "from dotenv import load_dotenv\n",
    "import os\n",
    "\n",
    "load_dotenv(override=True)\n"
   ]
  },
  {
   "cell_type": "code",
   "execution_count": 25,
   "metadata": {},
   "outputs": [],
   "source": [
    "model = ChatOpenAI(model=\"gpt-4o\")"
   ]
  },
  {
   "cell_type": "code",
   "execution_count": 26,
   "metadata": {},
   "outputs": [],
   "source": [
    "conversationPath = \"charlesRiverInterview.txt\"\n",
    "conversation = open(conversationPath, \"r\").read()"
   ]
  },
  {
   "cell_type": "code",
   "execution_count": 27,
   "metadata": {},
   "outputs": [
    {
     "name": "stdout",
     "output_type": "stream",
     "text": [
      "content='```json\\n{\\n  \"Name\": \"Charles River\",\\n  \"DOB\": \"1976\",\\n  \"Gender\": \"Male\",\\n  \"Core Values\": [\\n    \"Precision in execution\",\\n    \"Data-backed decisions\",\\n    \"Open, honest feedback\",\\n    \"Continuous improvement\",\\n    \"Transparency in communication\",\\n    \"Integrity in decision-making\",\\n    \"Resilience in overcoming challenges\"\\n  ],\\n  \"Personality Traits\": [\\n    \"Goal-oriented\",\\n    \"Systematic\",\\n    \"Resourceful\",\\n    \"Strategic foresight\",\\n    \"Analytical thinking\",\\n    \"Decisive\"\\n  ],\\n  \"Hobbies/Interests\": [\\n    \"Backpacking and hiking\",\\n    \"Crafting custom modern furniture\",\\n    \"Analyzing Enlightenment philosophers\",\\n    \"Woodworking\",\\n    \"Mentoring\"\\n  ]\\n}\\n```' additional_kwargs={'refusal': None} response_metadata={'token_usage': {'completion_tokens': 170, 'prompt_tokens': 1869, 'total_tokens': 2039, 'completion_tokens_details': {'accepted_prediction_tokens': 0, 'audio_tokens': 0, 'reasoning_tokens': 0, 'rejected_prediction_tokens': 0}, 'prompt_tokens_details': {'audio_tokens': 0, 'cached_tokens': 0}}, 'model_name': 'gpt-4o-2024-08-06', 'system_fingerprint': 'fp_703d4ff298', 'finish_reason': 'stop', 'logprobs': None} id='run-625f4244-d895-4ff4-b432-d6c0f153e3db-0' usage_metadata={'input_tokens': 1869, 'output_tokens': 170, 'total_tokens': 2039, 'input_token_details': {'audio': 0, 'cache_read': 0}, 'output_token_details': {'audio': 0, 'reasoning': 0}}\n"
     ]
    }
   ],
   "source": [
    "\n",
    "whoPrompt = f\"\"\"Given the following conversation between an AI and a User, generate a who.json file that details the User's:\n",
    "\n",
    "Name\n",
    "DOB\n",
    "Gender\n",
    "Core Values\n",
    "Personality Traits\n",
    "Hobbies/Interests\n",
    "\n",
    "You may have to read into the user's replies here and there, that is ok.\n",
    "\n",
    "Here is the conversation:\n",
    "\n",
    "{conversation}\"\"\"\n",
    "\n",
    "who = model.invoke(whoPrompt)\n",
    "print(who)\n",
    "\n"
   ]
  },
  {
   "cell_type": "code",
   "execution_count": 28,
   "metadata": {},
   "outputs": [
    {
     "name": "stdout",
     "output_type": "stream",
     "text": [
      "content='```json\\n{\\n  \"desires\": [\\n    {\\n      \"description\": \"Improve client engagement and streamline post-project support systems for Precision Solutions.\",\\n      \"strength\": 9,\\n      \"timeliness\": \"6 months\"\\n    },\\n    {\\n      \"description\": \"Increase Precision Solutions\\' annual revenue to $2M by the end of 2025.\",\\n      \"strength\": 10,\\n      \"timeliness\": \"2 years\"\\n    },\\n    {\\n      \"description\": \"Develop an AI-powered supply chain optimization tool by 2026.\",\\n      \"strength\": 8,\\n      \"timeliness\": \"3 years\"\\n    },\\n    {\\n      \"description\": \"Complete Lean Six Sigma Black Belt certification by Q3 2025.\",\\n      \"strength\": 8,\\n      \"timeliness\": \"2 years\"\\n    },\\n    {\\n      \"description\": \"Reduce client onboarding time by 75% within the next six months.\",\\n      \"strength\": 9,\\n      \"timeliness\": \"6 months\"\\n    },\\n    {\\n      \"description\": \"Host first leadership workshop by mid-2025.\",\\n      \"strength\": 7,\\n      \"timeliness\": \"2 years\"\\n    },\\n    {\\n      \"description\": \"Achieve a 20% increase in client retention within 1 year.\",\\n      \"strength\": 9,\\n      \"timeliness\": \"1 year\"\\n    },\\n    {\\n      \"description\": \"Publish a book on data-driven leadership.\",\\n      \"strength\": 7,\\n      \"timeliness\": \"5 years\"\\n    },\\n    {\\n      \"description\": \"Create a legacy of professional excellence and community impact.\",\\n      \"strength\": 10,\\n      \"timeliness\": \"10 years\"\\n    },\\n    {\\n      \"description\": \"Strengthen personal relationships with family by ensuring they feel prioritized.\",\\n      \"strength\": 9,\\n      \"timeliness\": \"ongoing\"\\n    }\\n  ]\\n}\\n```' additional_kwargs={'refusal': None} response_metadata={'token_usage': {'completion_tokens': 392, 'prompt_tokens': 1891, 'total_tokens': 2283, 'completion_tokens_details': {'accepted_prediction_tokens': 0, 'audio_tokens': 0, 'reasoning_tokens': 0, 'rejected_prediction_tokens': 0}, 'prompt_tokens_details': {'audio_tokens': 0, 'cached_tokens': 0}}, 'model_name': 'gpt-4o-2024-08-06', 'system_fingerprint': 'fp_b7d65f1a5b', 'finish_reason': 'stop', 'logprobs': None} id='run-520a8d49-f511-4e46-86cc-cc57b19b84fd-0' usage_metadata={'input_tokens': 1891, 'output_tokens': 392, 'total_tokens': 2283, 'input_token_details': {'audio': 0, 'cache_read': 0}, 'output_token_details': {'audio': 0, 'reasoning': 0}}\n"
     ]
    }
   ],
   "source": [
    "whereToPrompt = f\"\"\"Given the following conversation between an AI and a User, generate a whereTo.json file that details the User's Desires.\n",
    "\n",
    "A Desire has three attributes:\n",
    "\n",
    "description\n",
    "strength (1-10)\n",
    "timeliness -- how quickly does the user want this? Quantify and specify units (days, months, or years).\n",
    "\n",
    "You may have to read into the user's replies here and there, that is ok.\n",
    "\n",
    "Here is the conversation:\n",
    "\n",
    "{conversation}\"\"\"\n",
    "\n",
    "whereTo = model.invoke(whereToPrompt)\n",
    "print(whereTo)\n"
   ]
  },
  {
   "cell_type": "code",
   "execution_count": 29,
   "metadata": {},
   "outputs": [],
   "source": [
    "def extractJson(text):\n",
    "    openChar, closeChar = -1, -1\n",
    "    for index in range(len(text)):\n",
    "        if text[index] == '{':\n",
    "            openChar = index\n",
    "            break\n",
    "    for index in range(-1, -len(text), -1):\n",
    "        if text[index] == '}':\n",
    "            closeChar = index\n",
    "            break\n",
    "    return text[openChar:closeChar+1]\n",
    "\n"
   ]
  },
  {
   "cell_type": "code",
   "execution_count": 30,
   "metadata": {},
   "outputs": [],
   "source": [
    "who = extractJson(who.content)\n",
    "with open(\"who.json\", \"w\") as file:\n",
    "    file.write(who)\n",
    "\n",
    "whereTo = extractJson(whereTo.content)\n",
    "with open(\"whereTo.json\", \"w\") as file:\n",
    "    file.write(whereTo)"
   ]
  },
  {
   "cell_type": "code",
   "execution_count": 37,
   "metadata": {},
   "outputs": [
    {
     "name": "stdout",
     "output_type": "stream",
     "text": [
      "content='Based on the information from `who.json` and `whereTo.json`, an actionable plan (`how.json`) can be crafted to align with Charles River\\'s goals and personality traits. The plan will incorporate his core values and strategic mindset, focusing on high-priority objectives with clear descriptions, deadlines, justifications, and action items.\\n\\n```json\\n{\\n  \"subPlans\": [\\n    {\\n      \"goal\": {\\n        \"description\": \"Improve client engagement and streamline post-project support systems for Precision Solutions by April 2024.\",\\n        \"deadline\": \"2024-04-30\"\\n      },\\n      \"justification\": \"To enhance customer satisfaction and strengthen long-term business relationships while reflecting Charles\\' value of continuous improvement.\",\\n      \"actionItems\": [\\n        {\\n          \"what\": \"Conduct a comprehensive analysis of current client engagement practices and identify key areas for improvement.\",\\n          \"when\": \"Every Monday, 9 AM - 11 AM\",\\n          \"duration\": \"2 hours per session\"\\n        },\\n        {\\n          \"what\": \"Develop a detailed plan for post-project support enhancements, including automation of follow-ups.\",\\n          \"when\": \"Every Wednesday, 1 PM - 3 PM\",\\n          \"duration\": \"2 hours per session\"\\n        },\\n        {\\n          \"what\": \"Implement training sessions for the team on the new engagement and support systems.\",\\n          \"when\": \"Every Friday, 10 AM - 12 PM\",\\n          \"duration\": \"2 hours per session\"\\n        }\\n      ]\\n    },\\n    {\\n      \"goal\": {\\n        \"description\": \"Reduce client onboarding time by 75% by April 2024.\",\\n        \"deadline\": \"2024-04-30\"\\n      },\\n      \"justification\": \"To increase operational efficiency and enhance customer experience, aligning with Charles\\' value of precision in execution.\",\\n      \"actionItems\": [\\n        {\\n          \"what\": \"Map out the existing client onboarding process and identify bottlenecks.\",\\n          \"when\": \"Every Tuesday, 10 AM - 12 PM\",\\n          \"duration\": \"2 hours per session\"\\n        },\\n        {\\n          \"what\": \"Design and test streamlined onboarding procedures with a focus on automation.\",\\n          \"when\": \"Every Thursday, 2 PM - 4 PM\",\\n          \"duration\": \"2 hours per session\"\\n        },\\n        {\\n          \"what\": \"Roll out the new onboarding protocol and monitor its impact.\",\\n          \"when\": \"Bi-weekly on Mondays, 3 PM - 4 PM\",\\n          \"duration\": \"1 hour per session\"\\n        }\\n      ]\\n    },\\n    {\\n      \"goal\": {\\n        \"description\": \"Achieve a 20% increase in client retention by October 2024.\",\\n        \"deadline\": \"2024-10-31\"\\n      },\\n      \"justification\": \"To boost business growth and ensure sustainable success, leveraging Charles\\' analytical thinking and decision-making skills.\",\\n      \"actionItems\": [\\n        {\\n          \"what\": \"Analyze client feedback and identify key retention factors.\",\\n          \"when\": \"Every Wednesday, 10 AM - 11 AM\",\\n          \"duration\": \"1 hour per session\"\\n        },\\n        {\\n          \"what\": \"Develop and implement new client retention strategies, such as loyalty programs.\",\\n          \"when\": \"Every Friday, 11 AM - 1 PM\",\\n          \"duration\": \"2 hours per session\"\\n        },\\n        {\\n          \"what\": \"Evaluate retention strategy effectiveness quarterly and adjust accordingly.\",\\n          \"when\": \"Quarterly, first Monday of the month, 2 PM - 3 PM\",\\n          \"duration\": \"1 hour per session\"\\n        }\\n      ]\\n    },\\n    {\\n      \"goal\": {\\n        \"description\": \"Complete Lean Six Sigma Black Belt certification by September 2025.\",\\n        \"deadline\": \"2025-09-30\"\\n      },\\n      \"justification\": \"To enhance Charles\\' strategic foresight and operational expertise consistent with his goal-oriented personality.\",\\n      \"actionItems\": [\\n        {\\n          \"what\": \"Enroll in a Lean Six Sigma Black Belt certification course.\",\\n          \"when\": \"December 2023\",\\n          \"duration\": \"One-time enrollment\"\\n        },\\n        {\\n          \"what\": \"Dedicate time for study and practice exams.\",\\n          \"when\": \"Twice a week, Thursday and Saturday, 8 PM - 10 PM\",\\n          \"duration\": \"2 hours per session\"\\n        },\\n        {\\n          \"what\": \"Participate in relevant projects to apply Lean Six Sigma principles.\",\\n          \"when\": \"Monthly project engagement\",\\n          \"duration\": \"Variable\"\\n        }\\n      ]\\n    },\\n    {\\n      \"goal\": {\\n        \"description\": \"Host the first leadership workshop by June 2025.\",\\n        \"deadline\": \"2025-06-30\"\\n      },\\n      \"justification\": \"To share knowledge and mentor emerging leaders, aligning with Charles\\' interest in mentoring and community impact.\",\\n      \"actionItems\": [\\n        {\\n          \"what\": \"Research and outline key topics for the workshop.\",\\n          \"when\": \"Every Saturday, 9 AM - 11 AM\",\\n          \"duration\": \"2 hours per session\"\\n        },\\n        {\\n          \"what\": \"Identify and collaborate with industry experts for guest speaking engagements.\",\\n          \"when\": \"Monthly, second Tuesday of the month, 1 PM - 2 PM\",\\n          \"duration\": \"1 hour per session\"\\n        },\\n        {\\n          \"what\": \"Organize and market the workshop to a targeted audience.\",\\n          \"when\": \"Starting January 2025, bi-weekly on Thursdays, 3 PM - 4 PM\",\\n          \"duration\": \"1 hour per session\"\\n        }\\n      ]\\n    }\\n  ]\\n}\\n```\\n\\nThis `how.json` plan reflects Charles River\\'s core values, personality traits, and highest priority goals, providing a structured and time-bound approach to achieving them.' additional_kwargs={'refusal': None} response_metadata={'token_usage': {'completion_tokens': 1202, 'prompt_tokens': 715, 'total_tokens': 1917, 'completion_tokens_details': {'accepted_prediction_tokens': 0, 'audio_tokens': 0, 'reasoning_tokens': 0, 'rejected_prediction_tokens': 0}, 'prompt_tokens_details': {'audio_tokens': 0, 'cached_tokens': 0}}, 'model_name': 'gpt-4o-2024-08-06', 'system_fingerprint': 'fp_b7d65f1a5b', 'finish_reason': 'stop', 'logprobs': None} id='run-0c9507b4-530a-4f0e-9da8-72386e76b52d-0' usage_metadata={'input_tokens': 715, 'output_tokens': 1202, 'total_tokens': 1917, 'input_token_details': {'audio': 0, 'cache_read': 0}, 'output_token_details': {'audio': 0, 'reasoning': 0}}\n"
     ]
    }
   ],
   "source": [
    "howPrompt = f\"\"\"who.json describes critical attributes of a user. whereTo.json describes a user's goals and their corresponding commitment to them. Given these files, whereTo.json and who.json, create an actionable plan, how.json.\n",
    "\n",
    "how.json is a json object of the following format:\n",
    "\n",
    "List[subPlans]\n",
    "> goal (a json object) of the following format:\n",
    " - description (specific, measurable, and attainable) (string)\n",
    " - deadline (a reasonable future date in which the goal described is to be completed) (string)\n",
    "\n",
    "> justification (a string explaining why the user wants to complete the goal)\n",
    "\n",
    "> List[actionItems]:\n",
    "  - what (string)\n",
    "  - when (a string representing a day(s) and time(s))\n",
    " - duration (string)\n",
    " \n",
    " who.json: {who}\n",
    " whereTo.json: {whereTo}\"\"\"\n",
    "\n",
    "how = model.invoke(howPrompt)\n",
    "print(how)\n"
   ]
  },
  {
   "cell_type": "code",
   "execution_count": 38,
   "metadata": {},
   "outputs": [],
   "source": [
    "how = extractJson(how.content)\n",
    "with open(\"how.json\", \"w\") as file:\n",
    "    file.write(how)"
   ]
  },
  {
   "cell_type": "code",
   "execution_count": null,
   "metadata": {},
   "outputs": [],
   "source": []
  }
 ],
 "metadata": {
  "kernelspec": {
   "display_name": "Python 3",
   "language": "python",
   "name": "python3"
  },
  "language_info": {
   "codemirror_mode": {
    "name": "ipython",
    "version": 3
   },
   "file_extension": ".py",
   "mimetype": "text/x-python",
   "name": "python",
   "nbconvert_exporter": "python",
   "pygments_lexer": "ipython3",
   "version": "3.12.8"
  }
 },
 "nbformat": 4,
 "nbformat_minor": 2
}
