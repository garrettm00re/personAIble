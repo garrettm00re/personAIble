{
 "cells": [
  {
   "cell_type": "code",
   "execution_count": 20,
   "metadata": {},
   "outputs": [],
   "source": [
    "from langchain_openai import ChatOpenAI"
   ]
  },
  {
   "cell_type": "code",
   "execution_count": 21,
   "metadata": {},
   "outputs": [],
   "source": [
    "model = ChatOpenAI(model=\"gpt-4o\")"
   ]
  },
  {
   "cell_type": "code",
   "execution_count": 22,
   "metadata": {},
   "outputs": [],
   "source": [
    "conversationPath = \"charlesRiverInterview.txt\"\n",
    "conversation = open(conversationPath, \"r\").read()"
   ]
  },
  {
   "cell_type": "code",
   "execution_count": 23,
   "metadata": {},
   "outputs": [
    {
     "name": "stdout",
     "output_type": "stream",
     "text": [
      "content='```json\\n{\\n    \"Name\": \"Charles River\",\\n    \"DOB\": \"1976\",\\n    \"Gender\": \"Male\",\\n    \"Core Values\": [\\n        \"Integrity\",\\n        \"Accountability\",\\n        \"Resilience\",\\n        \"Efficiency\",\\n        \"Transparency\",\\n        \"Candid Conversations\"\\n    ],\\n    \"Personality Traits\": [\\n        \"Ambitious\",\\n        \"Analytical\",\\n        \"Dependable\",\\n        \"Strategic Thinker\",\\n        \"Clear Communicator\",\\n        \"Composed Under Pressure\"\\n    ],\\n    \"Hobbies/Interests\": [\\n        \"Hiking\",\\n        \"Woodworking\",\\n        \"Reading Historical and Philosophical Texts\"\\n    ]\\n}\\n```' additional_kwargs={'refusal': None} response_metadata={'token_usage': {'completion_tokens': 141, 'prompt_tokens': 1826, 'total_tokens': 1967, 'completion_tokens_details': {'accepted_prediction_tokens': 0, 'audio_tokens': 0, 'reasoning_tokens': 0, 'rejected_prediction_tokens': 0}, 'prompt_tokens_details': {'audio_tokens': 0, 'cached_tokens': 0}}, 'model_name': 'gpt-4o-2024-08-06', 'system_fingerprint': 'fp_703d4ff298', 'finish_reason': 'stop', 'logprobs': None} id='run-323cdbcd-681c-42c4-b4b6-f413c7edbf80-0' usage_metadata={'input_tokens': 1826, 'output_tokens': 141, 'total_tokens': 1967, 'input_token_details': {'audio': 0, 'cache_read': 0}, 'output_token_details': {'audio': 0, 'reasoning': 0}}\n"
     ]
    }
   ],
   "source": [
    "\n",
    "whoPrompt = f\"\"\"Given the following conversation between an AI and a User, generate a who.json file that details the User's:\n",
    "\n",
    "Name\n",
    "DOB\n",
    "Gender\n",
    "Core Values\n",
    "Personality Traits\n",
    "Hobbies/Interests\n",
    "\n",
    "You may have to read into the user's replies here and there, that is ok.\n",
    "\n",
    "Here is the conversation:\n",
    "\n",
    "{conversation}\"\"\"\n",
    "\n",
    "who = model.invoke(whoPrompt)\n",
    "print(who)\n",
    "\n"
   ]
  },
  {
   "cell_type": "code",
   "execution_count": 24,
   "metadata": {},
   "outputs": [
    {
     "name": "stdout",
     "output_type": "stream",
     "text": [
      "content='```json\\n{\\n  \"desires\": [\\n    {\\n      \"description\": \"Align personal aspirations with professional trajectory\",\\n      \"strength\": 8,\\n      \"timeliness\": \"3 months\"\\n    },\\n    {\\n      \"description\": \"Challenge assumptions and receive actionable insights\",\\n      \"strength\": 7,\\n      \"timeliness\": \"Immediate\"\\n    },\\n    {\\n      \"description\": \"Hold accountable to measurable progress\",\\n      \"strength\": 8,\\n      \"timeliness\": \"Ongoing\"\\n    },\\n    {\\n      \"description\": \"Cultivate a balanced life and nurture meaningful relationships\",\\n      \"strength\": 9,\\n      \"timeliness\": \"6 months\"\\n    },\\n    {\\n      \"description\": \"Expand business and mentor upcoming professionals\",\\n      \"strength\": 8,\\n      \"timeliness\": \"1 year\"\\n    },\\n    {\\n      \"description\": \"Achieve a 20% increase in revenue\",\\n      \"strength\": 9,\\n      \"timeliness\": \"1 year\"\\n    },\\n    {\\n      \"description\": \"Complete a pivotal industry certification\",\\n      \"strength\": 7,\\n      \"timeliness\": \"1 year\"\\n    },\\n    {\\n      \"description\": \"Host first leadership workshop\",\\n      \"strength\": 8,\\n      \"timeliness\": \"1 year\"\\n    },\\n    {\\n      \"description\": \"Publish a book on leadership\",\\n      \"strength\": 7,\\n      \"timeliness\": \"5 years\"\\n    },\\n    {\\n      \"description\": \"Transition to semi-retirement and focus on philanthropy\",\\n      \"strength\": 6,\\n      \"timeliness\": \"10 years\"\\n    },\\n    {\\n      \"description\": \"Delegate tasks more confidently\",\\n      \"strength\": 7,\\n      \"timeliness\": \"6 months\"\\n    },\\n    {\\n      \"description\": \"Embrace creative risks\",\\n      \"strength\": 6,\\n      \"timeliness\": \"6 months\"\\n    },\\n    {\\n      \"description\": \"Maintain a consistent balance between professional and personal life\",\\n      \"strength\": 9,\\n      \"timeliness\": \"3 months\"\\n    },\\n    {\\n      \"description\": \"Strengthen relationship with family\",\\n      \"strength\": 8,\\n      \"timeliness\": \"3 months\"\\n    },\\n    {\\n      \"description\": \"Strategies for scaling business sustainably\",\\n      \"strength\": 9,\\n      \"timeliness\": \"6 months\"\\n    },\\n    {\\n      \"description\": \"Tools for time management\",\\n      \"strength\": 8,\\n      \"timeliness\": \"Immediate\"\\n    }\\n  ]\\n}\\n```' additional_kwargs={'refusal': None} response_metadata={'token_usage': {'completion_tokens': 525, 'prompt_tokens': 1848, 'total_tokens': 2373, 'completion_tokens_details': {'accepted_prediction_tokens': 0, 'audio_tokens': 0, 'reasoning_tokens': 0, 'rejected_prediction_tokens': 0}, 'prompt_tokens_details': {'audio_tokens': 0, 'cached_tokens': 0}}, 'model_name': 'gpt-4o-2024-08-06', 'system_fingerprint': 'fp_b7d65f1a5b', 'finish_reason': 'stop', 'logprobs': None} id='run-c2358726-d4e7-40cf-b59e-ff311364fcc7-0' usage_metadata={'input_tokens': 1848, 'output_tokens': 525, 'total_tokens': 2373, 'input_token_details': {'audio': 0, 'cache_read': 0}, 'output_token_details': {'audio': 0, 'reasoning': 0}}\n"
     ]
    }
   ],
   "source": [
    "whereToPrompt = f\"\"\"Given the following conversation between an AI and a User, generate a whereTo.json file that details the User's Desires.\n",
    "\n",
    "A Desire has three attributes:\n",
    "\n",
    "description\n",
    "strength (1-10)\n",
    "timeliness -- how quickly does the user want this? Quantify and specify units (days, months, or years).\n",
    "\n",
    "You may have to read into the user's replies here and there, that is ok.\n",
    "\n",
    "Here is the conversation:\n",
    "\n",
    "{conversation}\"\"\"\n",
    "\n",
    "whereTo = model.invoke(whereToPrompt)\n",
    "print(whereTo)\n"
   ]
  },
  {
   "cell_type": "code",
   "execution_count": null,
   "metadata": {},
   "outputs": [],
   "source": []
  },
  {
   "cell_type": "code",
   "execution_count": 25,
   "metadata": {},
   "outputs": [],
   "source": [
    "def extractJson(text):\n",
    "    openChar, closeChar = -1, -1\n",
    "    for index in range(len(text)):\n",
    "        if text[index] == '{':\n",
    "            openChar = index\n",
    "            break\n",
    "    for index in range(-1, -len(text), -1):\n",
    "        if text[index] == '}':\n",
    "            closeChar = index\n",
    "            break\n",
    "    return text[openChar:closeChar+1]\n",
    "\n"
   ]
  },
  {
   "cell_type": "code",
   "execution_count": 26,
   "metadata": {},
   "outputs": [],
   "source": [
    "who = extractJson(who.content)\n",
    "with open(\"who.json\", \"w\") as file:\n",
    "    file.write(who)\n",
    "\n",
    "whereTo = extractJson(whereTo.content)\n",
    "with open(\"whereTo.json\", \"w\") as file:\n",
    "    file.write(whereTo)"
   ]
  },
  {
   "cell_type": "code",
   "execution_count": 27,
   "metadata": {},
   "outputs": [
    {
     "name": "stdout",
     "output_type": "stream",
     "text": [
      "content='Based on the information provided in `who.json` and `whereTo.json`, I\\'ve created an actionable plan in the format of `how.json`. The plan focuses on goals that align with Charles River\\'s core values, personality traits, and strengths, while also considering the timeliness and strength of desires outlined in `whereTo.json`.\\n\\n```json\\n{\\n  \"subPlans\": [\\n    {\\n      \"goal\": {\\n        \"description\": \"Align personal aspirations with professional trajectory by conducting a quarterly review of career goals and aligning them with personal values.\",\\n        \"deadline\": \"2024-01-31\"\\n      },\\n      \"justification\": \"To ensure professional growth aligns with personal values, enhancing overall satisfaction and motivation.\",\\n      \"actionItems\": [\\n        {\\n          \"what\": \"Conduct a self-assessment of current career goals.\",\\n          \"when\": \"2023-11-01, 10:00 AM\",\\n          \"duration\": \"2 hours\"\\n        },\\n        {\\n          \"what\": \"Identify discrepancies between personal values and career trajectory.\",\\n          \"when\": \"2023-11-02, 10:00 AM\",\\n          \"duration\": \"2 hours\"\\n        },\\n        {\\n          \"what\": \"Develop an action plan to address identified discrepancies.\",\\n          \"when\": \"2023-11-03, 2:00 PM\",\\n          \"duration\": \"3 hours\"\\n        }\\n      ]\\n    },\\n    {\\n      \"goal\": {\\n        \"description\": \"Challenge assumptions and receive actionable insights by attending bi-weekly mastermind sessions.\",\\n        \"deadline\": \"2023-12-31\"\\n      },\\n      \"justification\": \"To gain new perspectives and feedback that can drive personal and professional growth.\",\\n      \"actionItems\": [\\n        {\\n          \"what\": \"Join a local or online mastermind group.\",\\n          \"when\": \"2023-11-05, 5:00 PM\",\\n          \"duration\": \"1 hour\"\\n        },\\n        {\\n          \"what\": \"Attend bi-weekly mastermind sessions.\",\\n          \"when\": \"Every other Wednesday, 7:00 PM\",\\n          \"duration\": \"1.5 hours\"\\n        }\\n      ]\\n    },\\n    {\\n      \"goal\": {\\n        \"description\": \"Cultivate a balanced life and nurture meaningful relationships by dedicating weekly time for family activities and personal hobbies.\",\\n        \"deadline\": \"2024-04-30\"\\n      },\\n      \"justification\": \"To enhance personal well-being and strengthen family bonds, leading to a more fulfilling life.\",\\n      \"actionItems\": [\\n        {\\n          \"what\": \"Plan a weekly family activity.\",\\n          \"when\": \"Every Saturday, 3:00 PM\",\\n          \"duration\": \"3 hours\"\\n        },\\n        {\\n          \"what\": \"Schedule time for personal hobbies like hiking or woodworking.\",\\n          \"when\": \"Every Sunday, 10:00 AM\",\\n          \"duration\": \"2 hours\"\\n        }\\n      ]\\n    },\\n    {\\n      \"goal\": {\\n        \"description\": \"Achieve a 20% increase in revenue by implementing new marketing strategies and optimizing current operations.\",\\n        \"deadline\": \"2024-10-31\"\\n      },\\n      \"justification\": \"To ensure business growth and stability, providing more opportunities for expansion and mentorship.\",\\n      \"actionItems\": [\\n        {\\n          \"what\": \"Conduct a market analysis to identify growth opportunities.\",\\n          \"when\": \"2023-11-10, 9:00 AM\",\\n          \"duration\": \"4 hours\"\\n        },\\n        {\\n          \"what\": \"Develop and implement a new marketing strategy.\",\\n          \"when\": \"2023-11-15, 10:00 AM\",\\n          \"duration\": \"8 hours\"\\n        },\\n        {\\n          \"what\": \"Review and optimize current operational processes.\",\\n          \"when\": \"2023-12-01, 1:00 PM\",\\n          \"duration\": \"6 hours\"\\n        }\\n      ]\\n    },\\n    {\\n      \"goal\": {\\n        \"description\": \"Complete a pivotal industry certification to enhance professional credibility and expertise.\",\\n        \"deadline\": \"2024-10-31\"\\n      },\\n      \"justification\": \"To expand professional knowledge and credentials, improving career prospects and opportunities for mentorship.\",\\n      \"actionItems\": [\\n        {\\n          \"what\": \"Research industry certifications relevant to current field.\",\\n          \"when\": \"2023-11-20, 9:00 AM\",\\n          \"duration\": \"3 hours\"\\n        },\\n        {\\n          \"what\": \"Enroll in a chosen certification program.\",\\n          \"when\": \"2023-12-05, 10:00 AM\",\\n          \"duration\": \"2 hours\"\\n        },\\n        {\\n          \"what\": \"Set a study schedule to prepare for certification exams.\",\\n          \"when\": \"Every Tuesday and Thursday, 6:00 PM\",\\n          \"duration\": \"2 hours\"\\n        }\\n      ]\\n    }\\n  ]\\n}\\n```\\n\\nThis plan takes into account Charles River\\'s strengths, ambitions, and the timelines associated with each goal. It breaks down each goal into actionable steps with specific deadlines and time commitments, ensuring that progress can be tracked and adjusted as needed.' additional_kwargs={'refusal': None} response_metadata={'token_usage': {'completion_tokens': 1053, 'prompt_tokens': 803, 'total_tokens': 1856, 'completion_tokens_details': {'accepted_prediction_tokens': 0, 'audio_tokens': 0, 'reasoning_tokens': 0, 'rejected_prediction_tokens': 0}, 'prompt_tokens_details': {'audio_tokens': 0, 'cached_tokens': 0}}, 'model_name': 'gpt-4o-2024-08-06', 'system_fingerprint': 'fp_b7d65f1a5b', 'finish_reason': 'stop', 'logprobs': None} id='run-45a1eb04-eb32-46ae-b2f6-c5d9ddd67e5a-0' usage_metadata={'input_tokens': 803, 'output_tokens': 1053, 'total_tokens': 1856, 'input_token_details': {'audio': 0, 'cache_read': 0}, 'output_token_details': {'audio': 0, 'reasoning': 0}}\n"
     ]
    }
   ],
   "source": [
    "howPrompt = f\"\"\"who.json describes critical attributes of a user. whereTo.json describes a user's goals and their corresponding commitment to them. Given these files, whereTo.json and who.json, create an actionable plan, how.json.\n",
    "\n",
    "how.json is a json object of the following format:\n",
    "\n",
    "List[subPlans]\n",
    "> goal (a json object) of the following format:\n",
    " - description (specific, measurable, and attainable)\n",
    " - deadline (a reasonable future date in which the goal described is to be completed)\n",
    "\n",
    "> justification (a string explaining why the user wants to complete the goal)\n",
    "\n",
    "> List[actionItems]:\n",
    "  - what\n",
    "  - when (day, time pair(s))\n",
    " - duration\n",
    " \n",
    " who.json: {who}\n",
    " whereTo.json: {whereTo}\"\"\"\n",
    "\n",
    "how = model.invoke(howPrompt)\n",
    "print(how)\n"
   ]
  },
  {
   "cell_type": "code",
   "execution_count": 28,
   "metadata": {},
   "outputs": [],
   "source": [
    "how = extractJson(how.content)\n",
    "with open(\"how.json\", \"w\") as file:\n",
    "    file.write(how)\n",
    "\n"
   ]
  },
  {
   "cell_type": "code",
   "execution_count": null,
   "metadata": {},
   "outputs": [],
   "source": []
  }
 ],
 "metadata": {
  "kernelspec": {
   "display_name": "Python 3",
   "language": "python",
   "name": "python3"
  },
  "language_info": {
   "codemirror_mode": {
    "name": "ipython",
    "version": 3
   },
   "file_extension": ".py",
   "mimetype": "text/x-python",
   "name": "python",
   "nbconvert_exporter": "python",
   "pygments_lexer": "ipython3",
   "version": "3.12.8"
  }
 },
 "nbformat": 4,
 "nbformat_minor": 2
}
